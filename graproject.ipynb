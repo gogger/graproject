{
 "cells": [
  {
   "cell_type": "markdown",
   "metadata": {},
   "source": [
    "# Project Title\n",
    "Comparison of Logistic Regression and SVM Method\n",
    "\n",
    "## Members\n",
    "\n",
    "1. First member: name and e-mail adress\n",
    "Zeynep Göger and gogerz@itu.edu.tr\n",
    "2. Second member: name and e-mail adress\n",
    "\n",
    "## Description of the project\n",
    "In this project,  we compare two methods that are logistic regression method and SVM method \n",
    "by using 1984 United Stated Congressional Voting Records in R language. We analyse that which\n",
    "method is better to predict the congressman belongs to which party according to first column\n",
    "of the data to the rest of them.\n",
    "\n",
    "\n",
    "### The methods to be used\n",
    "There are two different methods that are logistic regression method and SVM method.\n",
    "Logistic regression is a type of a prediction method that is used if the data has binary \n",
    "dependent variables and this method determines the relationship between the set of dependent\n",
    "variables and the independent set.\n",
    "    \n",
    "Support Vector Machines method is another prediction method that is used if the data is\n",
    "binary too. However, in this method two kinds of accumulation of dependent variables\n",
    "are determined and divided down the middle of the distance that is called as margin.    \n",
    "\n",
    "Explain.\n",
    "\n",
    "### The data\n",
    "\n",
    "The data is 1984 United Stated Congressional Voting Records that has 435 rows and 17 columns. This data consists of 435 congressmen that are 267 democrats and 168 republicans.\n",
    "In this data has binary dependent variables such as yes or no and two class of congressmen\n",
    "that are republican and democrat. There are 16 numbers of attributes that are categorical.\n",
    "    \n",
    "## Code\n",
    "\n",
    "As proof of work, you must run this notebook.  Upload an HTML output of this notebook on your github account."
   ]
  },
  {
   "cell_type": "code",
   "execution_count": 1,
   "metadata": {
    "collapsed": false
   },
   "outputs": [],
   "source": [
    "X<- read.csv(\"https://archive.ics.uci.edu/ml/machine-learning-databases/voting-records/house-votes-84.data\", header=FALSE)"
   ]
  },
  {
   "cell_type": "code",
   "execution_count": 2,
   "metadata": {
    "collapsed": false
   },
   "outputs": [
    {
     "data": {
      "text/html": [
       "<table>\n",
       "<thead><tr><th scope=col>V1</th><th scope=col>V2</th><th scope=col>V3</th><th scope=col>V4</th><th scope=col>V5</th><th scope=col>V6</th><th scope=col>V7</th><th scope=col>V8</th><th scope=col>V9</th><th scope=col>V10</th><th scope=col>V11</th><th scope=col>V12</th><th scope=col>V13</th><th scope=col>V14</th><th scope=col>V15</th><th scope=col>V16</th><th scope=col>V17</th></tr></thead>\n",
       "<tbody>\n",
       "\t<tr><td>republican</td><td>n         </td><td>y         </td><td>n         </td><td>y         </td><td>y         </td><td>y         </td><td>n         </td><td>n         </td><td>n         </td><td>y         </td><td>?         </td><td>y         </td><td>y         </td><td>y         </td><td>n         </td><td>y         </td></tr>\n",
       "\t<tr><td>republican</td><td>n         </td><td>y         </td><td>n         </td><td>y         </td><td>y         </td><td>y         </td><td>n         </td><td>n         </td><td>n         </td><td>n         </td><td>n         </td><td>y         </td><td>y         </td><td>y         </td><td>n         </td><td>?         </td></tr>\n",
       "\t<tr><td>democrat  </td><td>?         </td><td>y         </td><td>y         </td><td>?         </td><td>y         </td><td>y         </td><td>n         </td><td>n         </td><td>n         </td><td>n         </td><td>y         </td><td>n         </td><td>y         </td><td>y         </td><td>n         </td><td>n         </td></tr>\n",
       "\t<tr><td>democrat  </td><td>n         </td><td>y         </td><td>y         </td><td>n         </td><td>?         </td><td>y         </td><td>n         </td><td>n         </td><td>n         </td><td>n         </td><td>y         </td><td>n         </td><td>y         </td><td>n         </td><td>n         </td><td>y         </td></tr>\n",
       "\t<tr><td>democrat  </td><td>y         </td><td>y         </td><td>y         </td><td>n         </td><td>y         </td><td>y         </td><td>n         </td><td>n         </td><td>n         </td><td>n         </td><td>y         </td><td>?         </td><td>y         </td><td>y         </td><td>y         </td><td>y         </td></tr>\n",
       "\t<tr><td>democrat  </td><td>n         </td><td>y         </td><td>y         </td><td>n         </td><td>y         </td><td>y         </td><td>n         </td><td>n         </td><td>n         </td><td>n         </td><td>n         </td><td>n         </td><td>y         </td><td>y         </td><td>y         </td><td>y         </td></tr>\n",
       "</tbody>\n",
       "</table>\n"
      ],
      "text/latex": [
       "\\begin{tabular}{r|lllllllllllllllll}\n",
       " V1 & V2 & V3 & V4 & V5 & V6 & V7 & V8 & V9 & V10 & V11 & V12 & V13 & V14 & V15 & V16 & V17\\\\\n",
       "\\hline\n",
       "\t republican & n          & y          & n          & y          & y          & y          & n          & n          & n          & y          & ?          & y          & y          & y          & n          & y         \\\\\n",
       "\t republican & n          & y          & n          & y          & y          & y          & n          & n          & n          & n          & n          & y          & y          & y          & n          & ?         \\\\\n",
       "\t democrat   & ?          & y          & y          & ?          & y          & y          & n          & n          & n          & n          & y          & n          & y          & y          & n          & n         \\\\\n",
       "\t democrat   & n          & y          & y          & n          & ?          & y          & n          & n          & n          & n          & y          & n          & y          & n          & n          & y         \\\\\n",
       "\t democrat   & y          & y          & y          & n          & y          & y          & n          & n          & n          & n          & y          & ?          & y          & y          & y          & y         \\\\\n",
       "\t democrat   & n          & y          & y          & n          & y          & y          & n          & n          & n          & n          & n          & n          & y          & y          & y          & y         \\\\\n",
       "\\end{tabular}\n"
      ],
      "text/markdown": [
       "\n",
       "V1 | V2 | V3 | V4 | V5 | V6 | V7 | V8 | V9 | V10 | V11 | V12 | V13 | V14 | V15 | V16 | V17 | \n",
       "|---|---|---|---|---|---|\n",
       "| republican | n          | y          | n          | y          | y          | y          | n          | n          | n          | y          | ?          | y          | y          | y          | n          | y          | \n",
       "| republican | n          | y          | n          | y          | y          | y          | n          | n          | n          | n          | n          | y          | y          | y          | n          | ?          | \n",
       "| democrat   | ?          | y          | y          | ?          | y          | y          | n          | n          | n          | n          | y          | n          | y          | y          | n          | n          | \n",
       "| democrat   | n          | y          | y          | n          | ?          | y          | n          | n          | n          | n          | y          | n          | y          | n          | n          | y          | \n",
       "| democrat   | y          | y          | y          | n          | y          | y          | n          | n          | n          | n          | y          | ?          | y          | y          | y          | y          | \n",
       "| democrat   | n          | y          | y          | n          | y          | y          | n          | n          | n          | n          | n          | n          | y          | y          | y          | y          | \n",
       "\n",
       "\n"
      ],
      "text/plain": [
       "  V1         V2 V3 V4 V5 V6 V7 V8 V9 V10 V11 V12 V13 V14 V15 V16 V17\n",
       "1 republican n  y  n  y  y  y  n  n  n   y   ?   y   y   y   n   y  \n",
       "2 republican n  y  n  y  y  y  n  n  n   n   n   y   y   y   n   ?  \n",
       "3 democrat   ?  y  y  ?  y  y  n  n  n   n   y   n   y   y   n   n  \n",
       "4 democrat   n  y  y  n  ?  y  n  n  n   n   y   n   y   n   n   y  \n",
       "5 democrat   y  y  y  n  y  y  n  n  n   n   y   ?   y   y   y   y  \n",
       "6 democrat   n  y  y  n  y  y  n  n  n   n   n   n   y   y   y   y  "
      ]
     },
     "metadata": {},
     "output_type": "display_data"
    }
   ],
   "source": [
    "head(X)"
   ]
  },
  {
   "cell_type": "markdown",
   "metadata": {},
   "source": [
    "## Logistic Regression\n",
    "Logistic regression is a type of a prediction method that is used if the data has binary \n",
    "dependent variables and this method determines the relationship between the set of dependent\n",
    "variables and the independent set. Odds is the ratio of the probability of occurrence with probability of event that does not occur.\n",
    "\n",
    "$logit_p = log(odds) = log(p/(1-p)) =  b_0 + b_1x_1 +...+  b_k x_k$"
   ]
  },
  {
   "cell_type": "markdown",
   "metadata": {},
   "source": [
    "where $b_k's$ are constant coefficients that determines the changes of logistic regression model when $x_i$ is added."
   ]
  },
  {
   "cell_type": "markdown",
   "metadata": {},
   "source": [
    "Initially, we divide the data to constitute our model and we divide 30% of the data randomly.\n"
   ]
  },
  {
   "cell_type": "markdown",
   "metadata": {},
   "source": [
    "To do this we use this code \n"
   ]
  },
  {
   "cell_type": "code",
   "execution_count": 3,
   "metadata": {
    "collapsed": false
   },
   "outputs": [
    {
     "data": {
      "text/html": [
       "<ol class=list-inline>\n",
       "\t<li>234</li>\n",
       "\t<li>242</li>\n",
       "\t<li>60</li>\n",
       "\t<li>82</li>\n",
       "\t<li>164</li>\n",
       "\t<li>40</li>\n",
       "\t<li>291</li>\n",
       "\t<li>149</li>\n",
       "\t<li>155</li>\n",
       "\t<li>203</li>\n",
       "\t<li>337</li>\n",
       "\t<li>23</li>\n",
       "\t<li>312</li>\n",
       "\t<li>68</li>\n",
       "\t<li>201</li>\n",
       "\t<li>273</li>\n",
       "\t<li>96</li>\n",
       "\t<li>324</li>\n",
       "\t<li>165</li>\n",
       "\t<li>57</li>\n",
       "\t<li>290</li>\n",
       "\t<li>174</li>\n",
       "\t<li>151</li>\n",
       "\t<li>249</li>\n",
       "\t<li>272</li>\n",
       "\t<li>364</li>\n",
       "\t<li>196</li>\n",
       "\t<li>352</li>\n",
       "\t<li>228</li>\n",
       "\t<li>295</li>\n",
       "\t<li>233</li>\n",
       "\t<li>26</li>\n",
       "\t<li>71</li>\n",
       "\t<li>134</li>\n",
       "\t<li>20</li>\n",
       "\t<li>263</li>\n",
       "\t<li>121</li>\n",
       "\t<li>359</li>\n",
       "\t<li>265</li>\n",
       "\t<li>256</li>\n",
       "\t<li>167</li>\n",
       "\t<li>202</li>\n",
       "\t<li>95</li>\n",
       "\t<li>124</li>\n",
       "\t<li>99</li>\n",
       "\t<li>98</li>\n",
       "\t<li>247</li>\n",
       "\t<li>77</li>\n",
       "\t<li>354</li>\n",
       "\t<li>31</li>\n",
       "\t<li>303</li>\n",
       "\t<li>8</li>\n",
       "\t<li>245</li>\n",
       "\t<li>282</li>\n",
       "\t<li>62</li>\n",
       "\t<li>43</li>\n",
       "\t<li>336</li>\n",
       "\t<li>329</li>\n",
       "\t<li>425</li>\n",
       "\t<li>148</li>\n",
       "\t<li>237</li>\n",
       "\t<li>32</li>\n",
       "\t<li>230</li>\n",
       "\t<li>145</li>\n",
       "\t<li>232</li>\n",
       "\t<li>138</li>\n",
       "\t<li>133</li>\n",
       "\t<li>171</li>\n",
       "\t<li>16</li>\n",
       "\t<li>117</li>\n",
       "\t<li>368</li>\n",
       "\t<li>84</li>\n",
       "\t<li>2</li>\n",
       "\t<li>396</li>\n",
       "\t<li>104</li>\n",
       "\t<li>262</li>\n",
       "\t<li>229</li>\n",
       "\t<li>393</li>\n",
       "\t<li>10</li>\n",
       "\t<li>270</li>\n",
       "\t<li>94</li>\n",
       "\t<li>308</li>\n",
       "\t<li>392</li>\n",
       "\t<li>391</li>\n",
       "\t<li>380</li>\n",
       "\t<li>301</li>\n",
       "\t<li>309</li>\n",
       "\t<li>418</li>\n",
       "\t<li>143</li>\n",
       "\t<li>345</li>\n",
       "\t<li>110</li>\n",
       "\t<li>42</li>\n",
       "\t<li>406</li>\n",
       "\t<li>198</li>\n",
       "\t<li>340</li>\n",
       "\t<li>131</li>\n",
       "\t<li>408</li>\n",
       "\t<li>433</li>\n",
       "\t<li>120</li>\n",
       "\t<li>401</li>\n",
       "\t<li>114</li>\n",
       "\t<li>422</li>\n",
       "\t<li>205</li>\n",
       "\t<li>92</li>\n",
       "\t<li>333</li>\n",
       "\t<li>172</li>\n",
       "\t<li>306</li>\n",
       "\t<li>395</li>\n",
       "\t<li>296</li>\n",
       "\t<li>144</li>\n",
       "\t<li>4</li>\n",
       "\t<li>101</li>\n",
       "\t<li>207</li>\n",
       "\t<li>399</li>\n",
       "\t<li>208</li>\n",
       "\t<li>37</li>\n",
       "\t<li>66</li>\n",
       "\t<li>97</li>\n",
       "\t<li>146</li>\n",
       "\t<li>222</li>\n",
       "\t<li>47</li>\n",
       "\t<li>322</li>\n",
       "\t<li>236</li>\n",
       "\t<li>367</li>\n",
       "\t<li>307</li>\n",
       "\t<li>107</li>\n",
       "\t<li>432</li>\n",
       "\t<li>254</li>\n",
       "\t<li>50</li>\n",
       "\t<li>90</li>\n",
       "</ol>\n"
      ],
      "text/latex": [
       "\\begin{enumerate*}\n",
       "\\item 234\n",
       "\\item 242\n",
       "\\item 60\n",
       "\\item 82\n",
       "\\item 164\n",
       "\\item 40\n",
       "\\item 291\n",
       "\\item 149\n",
       "\\item 155\n",
       "\\item 203\n",
       "\\item 337\n",
       "\\item 23\n",
       "\\item 312\n",
       "\\item 68\n",
       "\\item 201\n",
       "\\item 273\n",
       "\\item 96\n",
       "\\item 324\n",
       "\\item 165\n",
       "\\item 57\n",
       "\\item 290\n",
       "\\item 174\n",
       "\\item 151\n",
       "\\item 249\n",
       "\\item 272\n",
       "\\item 364\n",
       "\\item 196\n",
       "\\item 352\n",
       "\\item 228\n",
       "\\item 295\n",
       "\\item 233\n",
       "\\item 26\n",
       "\\item 71\n",
       "\\item 134\n",
       "\\item 20\n",
       "\\item 263\n",
       "\\item 121\n",
       "\\item 359\n",
       "\\item 265\n",
       "\\item 256\n",
       "\\item 167\n",
       "\\item 202\n",
       "\\item 95\n",
       "\\item 124\n",
       "\\item 99\n",
       "\\item 98\n",
       "\\item 247\n",
       "\\item 77\n",
       "\\item 354\n",
       "\\item 31\n",
       "\\item 303\n",
       "\\item 8\n",
       "\\item 245\n",
       "\\item 282\n",
       "\\item 62\n",
       "\\item 43\n",
       "\\item 336\n",
       "\\item 329\n",
       "\\item 425\n",
       "\\item 148\n",
       "\\item 237\n",
       "\\item 32\n",
       "\\item 230\n",
       "\\item 145\n",
       "\\item 232\n",
       "\\item 138\n",
       "\\item 133\n",
       "\\item 171\n",
       "\\item 16\n",
       "\\item 117\n",
       "\\item 368\n",
       "\\item 84\n",
       "\\item 2\n",
       "\\item 396\n",
       "\\item 104\n",
       "\\item 262\n",
       "\\item 229\n",
       "\\item 393\n",
       "\\item 10\n",
       "\\item 270\n",
       "\\item 94\n",
       "\\item 308\n",
       "\\item 392\n",
       "\\item 391\n",
       "\\item 380\n",
       "\\item 301\n",
       "\\item 309\n",
       "\\item 418\n",
       "\\item 143\n",
       "\\item 345\n",
       "\\item 110\n",
       "\\item 42\n",
       "\\item 406\n",
       "\\item 198\n",
       "\\item 340\n",
       "\\item 131\n",
       "\\item 408\n",
       "\\item 433\n",
       "\\item 120\n",
       "\\item 401\n",
       "\\item 114\n",
       "\\item 422\n",
       "\\item 205\n",
       "\\item 92\n",
       "\\item 333\n",
       "\\item 172\n",
       "\\item 306\n",
       "\\item 395\n",
       "\\item 296\n",
       "\\item 144\n",
       "\\item 4\n",
       "\\item 101\n",
       "\\item 207\n",
       "\\item 399\n",
       "\\item 208\n",
       "\\item 37\n",
       "\\item 66\n",
       "\\item 97\n",
       "\\item 146\n",
       "\\item 222\n",
       "\\item 47\n",
       "\\item 322\n",
       "\\item 236\n",
       "\\item 367\n",
       "\\item 307\n",
       "\\item 107\n",
       "\\item 432\n",
       "\\item 254\n",
       "\\item 50\n",
       "\\item 90\n",
       "\\end{enumerate*}\n"
      ],
      "text/markdown": [
       "1. 234\n",
       "2. 242\n",
       "3. 60\n",
       "4. 82\n",
       "5. 164\n",
       "6. 40\n",
       "7. 291\n",
       "8. 149\n",
       "9. 155\n",
       "10. 203\n",
       "11. 337\n",
       "12. 23\n",
       "13. 312\n",
       "14. 68\n",
       "15. 201\n",
       "16. 273\n",
       "17. 96\n",
       "18. 324\n",
       "19. 165\n",
       "20. 57\n",
       "21. 290\n",
       "22. 174\n",
       "23. 151\n",
       "24. 249\n",
       "25. 272\n",
       "26. 364\n",
       "27. 196\n",
       "28. 352\n",
       "29. 228\n",
       "30. 295\n",
       "31. 233\n",
       "32. 26\n",
       "33. 71\n",
       "34. 134\n",
       "35. 20\n",
       "36. 263\n",
       "37. 121\n",
       "38. 359\n",
       "39. 265\n",
       "40. 256\n",
       "41. 167\n",
       "42. 202\n",
       "43. 95\n",
       "44. 124\n",
       "45. 99\n",
       "46. 98\n",
       "47. 247\n",
       "48. 77\n",
       "49. 354\n",
       "50. 31\n",
       "51. 303\n",
       "52. 8\n",
       "53. 245\n",
       "54. 282\n",
       "55. 62\n",
       "56. 43\n",
       "57. 336\n",
       "58. 329\n",
       "59. 425\n",
       "60. 148\n",
       "61. 237\n",
       "62. 32\n",
       "63. 230\n",
       "64. 145\n",
       "65. 232\n",
       "66. 138\n",
       "67. 133\n",
       "68. 171\n",
       "69. 16\n",
       "70. 117\n",
       "71. 368\n",
       "72. 84\n",
       "73. 2\n",
       "74. 396\n",
       "75. 104\n",
       "76. 262\n",
       "77. 229\n",
       "78. 393\n",
       "79. 10\n",
       "80. 270\n",
       "81. 94\n",
       "82. 308\n",
       "83. 392\n",
       "84. 391\n",
       "85. 380\n",
       "86. 301\n",
       "87. 309\n",
       "88. 418\n",
       "89. 143\n",
       "90. 345\n",
       "91. 110\n",
       "92. 42\n",
       "93. 406\n",
       "94. 198\n",
       "95. 340\n",
       "96. 131\n",
       "97. 408\n",
       "98. 433\n",
       "99. 120\n",
       "100. 401\n",
       "101. 114\n",
       "102. 422\n",
       "103. 205\n",
       "104. 92\n",
       "105. 333\n",
       "106. 172\n",
       "107. 306\n",
       "108. 395\n",
       "109. 296\n",
       "110. 144\n",
       "111. 4\n",
       "112. 101\n",
       "113. 207\n",
       "114. 399\n",
       "115. 208\n",
       "116. 37\n",
       "117. 66\n",
       "118. 97\n",
       "119. 146\n",
       "120. 222\n",
       "121. 47\n",
       "122. 322\n",
       "123. 236\n",
       "124. 367\n",
       "125. 307\n",
       "126. 107\n",
       "127. 432\n",
       "128. 254\n",
       "129. 50\n",
       "130. 90\n",
       "\n",
       "\n"
      ],
      "text/plain": [
       "  [1] 234 242  60  82 164  40 291 149 155 203 337  23 312  68 201 273  96 324\n",
       " [19] 165  57 290 174 151 249 272 364 196 352 228 295 233  26  71 134  20 263\n",
       " [37] 121 359 265 256 167 202  95 124  99  98 247  77 354  31 303   8 245 282\n",
       " [55]  62  43 336 329 425 148 237  32 230 145 232 138 133 171  16 117 368  84\n",
       " [73]   2 396 104 262 229 393  10 270  94 308 392 391 380 301 309 418 143 345\n",
       " [91] 110  42 406 198 340 131 408 433 120 401 114 422 205  92 333 172 306 395\n",
       "[109] 296 144   4 101 207 399 208  37  66  97 146 222  47 322 236 367 307 107\n",
       "[127] 432 254  50  90"
      ]
     },
     "metadata": {},
     "output_type": "display_data"
    }
   ],
   "source": [
    "sample(1:nrow(X), 0.3*nrow(X))\n",
    "test <-sample(1:nrow(X), 0.3*nrow(X))"
   ]
  },
  {
   "cell_type": "code",
   "execution_count": 4,
   "metadata": {
    "collapsed": false
   },
   "outputs": [
    {
     "data": {
      "text/html": [
       "130"
      ],
      "text/latex": [
       "130"
      ],
      "text/markdown": [
       "130"
      ],
      "text/plain": [
       "[1] 130"
      ]
     },
     "metadata": {},
     "output_type": "display_data"
    }
   ],
   "source": [
    "length(test)\n"
   ]
  },
  {
   "cell_type": "markdown",
   "metadata": {},
   "source": [
    "130 members of this data is selected randomly by using this code in R but these numbers are not useful for testing and forming our model. Therefore, we convert them to a matrix by using the code below."
   ]
  },
  {
   "cell_type": "code",
   "execution_count": 5,
   "metadata": {
    "collapsed": false
   },
   "outputs": [
    {
     "data": {
      "text/html": [
       "<table>\n",
       "<thead><tr><th></th><th scope=col>V1</th><th scope=col>V2</th><th scope=col>V3</th><th scope=col>V4</th><th scope=col>V5</th><th scope=col>V6</th><th scope=col>V7</th><th scope=col>V8</th><th scope=col>V9</th><th scope=col>V10</th><th scope=col>V11</th><th scope=col>V12</th><th scope=col>V13</th><th scope=col>V14</th><th scope=col>V15</th><th scope=col>V16</th><th scope=col>V17</th></tr></thead>\n",
       "<tbody>\n",
       "\t<tr><th scope=row>160</th><td>democrat  </td><td>n         </td><td>y         </td><td>y         </td><td>n         </td><td>?         </td><td>y         </td><td>y         </td><td>y         </td><td>y         </td><td>y         </td><td>y         </td><td>n         </td><td>n         </td><td>?         </td><td>n         </td><td>?         </td></tr>\n",
       "\t<tr><th scope=row>213</th><td>democrat  </td><td>n         </td><td>n         </td><td>y         </td><td>n         </td><td>n         </td><td>n         </td><td>y         </td><td>y         </td><td>y         </td><td>n         </td><td>y         </td><td>n         </td><td>n         </td><td>n         </td><td>y         </td><td>y         </td></tr>\n",
       "\t<tr><th scope=row>130</th><td>democrat  </td><td>?         </td><td>?         </td><td>y         </td><td>n         </td><td>n         </td><td>n         </td><td>y         </td><td>y         </td><td>?         </td><td>n         </td><td>?         </td><td>?         </td><td>?         </td><td>?         </td><td>?         </td><td>?         </td></tr>\n",
       "\t<tr><th scope=row>279</th><td>republican</td><td>n         </td><td>n         </td><td>n         </td><td>y         </td><td>y         </td><td>y         </td><td>n         </td><td>n         </td><td>n         </td><td>n         </td><td>n         </td><td>y         </td><td>y         </td><td>y         </td><td>n         </td><td>y         </td></tr>\n",
       "\t<tr><th scope=row>162</th><td>democrat  </td><td>n         </td><td>n         </td><td>n         </td><td>n         </td><td>y         </td><td>y         </td><td>y         </td><td>n         </td><td>n         </td><td>n         </td><td>n         </td><td>y         </td><td>y         </td><td>y         </td><td>n         </td><td>y         </td></tr>\n",
       "\t<tr><th scope=row>276</th><td>democrat  </td><td>n         </td><td>n         </td><td>y         </td><td>n         </td><td>y         </td><td>y         </td><td>n         </td><td>n         </td><td>n         </td><td>n         </td><td>?         </td><td>n         </td><td>y         </td><td>y         </td><td>n         </td><td>n         </td></tr>\n",
       "\t<tr><th scope=row>182</th><td>democrat  </td><td>n         </td><td>n         </td><td>y         </td><td>n         </td><td>n         </td><td>n         </td><td>y         </td><td>y         </td><td>y         </td><td>y         </td><td>y         </td><td>n         </td><td>n         </td><td>n         </td><td>y         </td><td>y         </td></tr>\n",
       "\t<tr><th scope=row>78</th><td>democrat  </td><td>n         </td><td>y         </td><td>y         </td><td>y         </td><td>y         </td><td>y         </td><td>n         </td><td>y         </td><td>y         </td><td>y         </td><td>y         </td><td>y         </td><td>y         </td><td>y         </td><td>n         </td><td>y         </td></tr>\n",
       "\t<tr><th scope=row>335</th><td>democrat  </td><td>n         </td><td>y         </td><td>y         </td><td>n         </td><td>n         </td><td>y         </td><td>y         </td><td>y         </td><td>?         </td><td>n         </td><td>y         </td><td>y         </td><td>n         </td><td>n         </td><td>y         </td><td>y         </td></tr>\n",
       "\t<tr><th scope=row>382</th><td>democrat  </td><td>y         </td><td>y         </td><td>y         </td><td>n         </td><td>y         </td><td>y         </td><td>y         </td><td>y         </td><td>y         </td><td>y         </td><td>y         </td><td>n         </td><td>y         </td><td>y         </td><td>n         </td><td>?         </td></tr>\n",
       "\t<tr><th scope=row>418</th><td>democrat  </td><td>y         </td><td>y         </td><td>y         </td><td>n         </td><td>n         </td><td>n         </td><td>y         </td><td>y         </td><td>y         </td><td>y         </td><td>y         </td><td>n         </td><td>y         </td><td>n         </td><td>n         </td><td>y         </td></tr>\n",
       "\t<tr><th scope=row>254</th><td>republican</td><td>n         </td><td>y         </td><td>n         </td><td>y         </td><td>y         </td><td>y         </td><td>n         </td><td>n         </td><td>n         </td><td>n         </td><td>n         </td><td>y         </td><td>y         </td><td>y         </td><td>n         </td><td>y         </td></tr>\n",
       "\t<tr><th scope=row>58</th><td>republican</td><td>n         </td><td>y         </td><td>n         </td><td>y         </td><td>y         </td><td>y         </td><td>n         </td><td>n         </td><td>n         </td><td>y         </td><td>n         </td><td>y         </td><td>y         </td><td>y         </td><td>n         </td><td>y         </td></tr>\n",
       "\t<tr><th scope=row>251</th><td>republican</td><td>n         </td><td>y         </td><td>n         </td><td>y         </td><td>y         </td><td>y         </td><td>n         </td><td>n         </td><td>n         </td><td>n         </td><td>n         </td><td>y         </td><td>y         </td><td>y         </td><td>n         </td><td>n         </td></tr>\n",
       "\t<tr><th scope=row>165</th><td>democrat  </td><td>y         </td><td>y         </td><td>n         </td><td>n         </td><td>y         </td><td>y         </td><td>n         </td><td>n         </td><td>n         </td><td>y         </td><td>y         </td><td>y         </td><td>y         </td><td>y         </td><td>n         </td><td>?         </td></tr>\n",
       "\t<tr><th scope=row>27</th><td>democrat  </td><td>y         </td><td>n         </td><td>y         </td><td>n         </td><td>n         </td><td>n         </td><td>y         </td><td>y         </td><td>y         </td><td>n         </td><td>y         </td><td>n         </td><td>n         </td><td>n         </td><td>y         </td><td>y         </td></tr>\n",
       "\t<tr><th scope=row>222</th><td>democrat  </td><td>n         </td><td>y         </td><td>y         </td><td>n         </td><td>y         </td><td>y         </td><td>n         </td><td>n         </td><td>n         </td><td>n         </td><td>y         </td><td>n         </td><td>n         </td><td>n         </td><td>y         </td><td>?         </td></tr>\n",
       "\t<tr><th scope=row>181</th><td>democrat  </td><td>?         </td><td>?         </td><td>y         </td><td>n         </td><td>n         </td><td>n         </td><td>y         </td><td>y         </td><td>y         </td><td>?         </td><td>?         </td><td>n         </td><td>n         </td><td>n         </td><td>?         </td><td>?         </td></tr>\n",
       "\t<tr><th scope=row>411</th><td>republican</td><td>n         </td><td>n         </td><td>n         </td><td>y         </td><td>y         </td><td>y         </td><td>n         </td><td>n         </td><td>n         </td><td>n         </td><td>y         </td><td>y         </td><td>y         </td><td>y         </td><td>n         </td><td>y         </td></tr>\n",
       "\t<tr><th scope=row>290</th><td>democrat  </td><td>y         </td><td>y         </td><td>y         </td><td>n         </td><td>y         </td><td>y         </td><td>n         </td><td>y         </td><td>n         </td><td>y         </td><td>y         </td><td>n         </td><td>y         </td><td>y         </td><td>n         </td><td>?         </td></tr>\n",
       "\t<tr><th scope=row>62</th><td>republican</td><td>n         </td><td>y         </td><td>n         </td><td>y         </td><td>y         </td><td>y         </td><td>n         </td><td>n         </td><td>n         </td><td>n         </td><td>n         </td><td>y         </td><td>y         </td><td>y         </td><td>n         </td><td>n         </td></tr>\n",
       "\t<tr><th scope=row>297</th><td>republican</td><td>n         </td><td>n         </td><td>y         </td><td>y         </td><td>y         </td><td>y         </td><td>n         </td><td>n         </td><td>n         </td><td>y         </td><td>n         </td><td>y         </td><td>y         </td><td>y         </td><td>y         </td><td>y         </td></tr>\n",
       "\t<tr><th scope=row>220</th><td>democrat  </td><td>n         </td><td>y         </td><td>y         </td><td>n         </td><td>n         </td><td>n         </td><td>n         </td><td>y         </td><td>y         </td><td>n         </td><td>y         </td><td>n         </td><td>n         </td><td>y         </td><td>y         </td><td>y         </td></tr>\n",
       "\t<tr><th scope=row>113</th><td>democrat  </td><td>n         </td><td>?         </td><td>y         </td><td>n         </td><td>n         </td><td>y         </td><td>y         </td><td>y         </td><td>n         </td><td>y         </td><td>n         </td><td>n         </td><td>n         </td><td>n         </td><td>y         </td><td>?         </td></tr>\n",
       "\t<tr><th scope=row>302</th><td>democrat  </td><td>n         </td><td>n         </td><td>?         </td><td>n         </td><td>n         </td><td>y         </td><td>y         </td><td>y         </td><td>y         </td><td>n         </td><td>n         </td><td>n         </td><td>n         </td><td>n         </td><td>y         </td><td>y         </td></tr>\n",
       "\t<tr><th scope=row>203</th><td>democrat  </td><td>y         </td><td>n         </td><td>y         </td><td>n         </td><td>n         </td><td>y         </td><td>y         </td><td>y         </td><td>y         </td><td>y         </td><td>y         </td><td>n         </td><td>n         </td><td>n         </td><td>y         </td><td>y         </td></tr>\n",
       "\t<tr><th scope=row>275</th><td>republican</td><td>y         </td><td>n         </td><td>n         </td><td>y         </td><td>y         </td><td>n         </td><td>y         </td><td>n         </td><td>n         </td><td>y         </td><td>n         </td><td>n         </td><td>n         </td><td>y         </td><td>y         </td><td>y         </td></tr>\n",
       "\t<tr><th scope=row>132</th><td>democrat  </td><td>n         </td><td>n         </td><td>y         </td><td>n         </td><td>n         </td><td>y         </td><td>n         </td><td>y         </td><td>y         </td><td>y         </td><td>n         </td><td>n         </td><td>n         </td><td>y         </td><td>n         </td><td>y         </td></tr>\n",
       "\t<tr><th scope=row>322</th><td>democrat  </td><td>y         </td><td>y         </td><td>y         </td><td>n         </td><td>n         </td><td>n         </td><td>y         </td><td>y         </td><td>y         </td><td>y         </td><td>n         </td><td>n         </td><td>y         </td><td>n         </td><td>n         </td><td>y         </td></tr>\n",
       "\t<tr><th scope=row>239</th><td>democrat  </td><td>y         </td><td>y         </td><td>y         </td><td>n         </td><td>n         </td><td>n         </td><td>y         </td><td>y         </td><td>?         </td><td>y         </td><td>n         </td><td>n         </td><td>n         </td><td>n         </td><td>y         </td><td>?         </td></tr>\n",
       "\t<tr><th scope=row>...</th><td>...</td><td>...</td><td>...</td><td>...</td><td>...</td><td>...</td><td>...</td><td>...</td><td>...</td><td>...</td><td>...</td><td>...</td><td>...</td><td>...</td><td>...</td><td>...</td><td>...</td></tr>\n",
       "\t<tr><th scope=row>221</th><td>democrat  </td><td>n         </td><td>n         </td><td>y         </td><td>n         </td><td>n         </td><td>n         </td><td>y         </td><td>y         </td><td>y         </td><td>n         </td><td>n         </td><td>n         </td><td>n         </td><td>n         </td><td>y         </td><td>?         </td></tr>\n",
       "\t<tr><th scope=row>386</th><td>democrat  </td><td>y         </td><td>y         </td><td>n         </td><td>n         </td><td>y         </td><td>y         </td><td>n         </td><td>n         </td><td>n         </td><td>n         </td><td>y         </td><td>y         </td><td>y         </td><td>y         </td><td>y         </td><td>n         </td></tr>\n",
       "\t<tr><th scope=row>119</th><td>democrat  </td><td>n         </td><td>y         </td><td>y         </td><td>n         </td><td>n         </td><td>n         </td><td>n         </td><td>y         </td><td>y         </td><td>y         </td><td>y         </td><td>n         </td><td>n         </td><td>n         </td><td>y         </td><td>y         </td></tr>\n",
       "\t<tr><th scope=row>435</th><td>republican</td><td>n         </td><td>y         </td><td>n         </td><td>y         </td><td>y         </td><td>y         </td><td>n         </td><td>n         </td><td>n         </td><td>y         </td><td>n         </td><td>y         </td><td>y         </td><td>y         </td><td>?         </td><td>n         </td></tr>\n",
       "\t<tr><th scope=row>303</th><td>republican</td><td>n         </td><td>n         </td><td>n         </td><td>y         </td><td>y         </td><td>y         </td><td>y         </td><td>n         </td><td>n         </td><td>y         </td><td>n         </td><td>y         </td><td>y         </td><td>y         </td><td>n         </td><td>y         </td></tr>\n",
       "\t<tr><th scope=row>111</th><td>democrat  </td><td>n         </td><td>n         </td><td>y         </td><td>n         </td><td>n         </td><td>n         </td><td>y         </td><td>y         </td><td>y         </td><td>y         </td><td>n         </td><td>n         </td><td>n         </td><td>n         </td><td>y         </td><td>y         </td></tr>\n",
       "\t<tr><th scope=row>258</th><td>republican</td><td>n         </td><td>n         </td><td>n         </td><td>y         </td><td>y         </td><td>n         </td><td>n         </td><td>n         </td><td>n         </td><td>n         </td><td>n         </td><td>y         </td><td>n         </td><td>y         </td><td>?         </td><td>y         </td></tr>\n",
       "\t<tr><th scope=row>85</th><td>republican</td><td>n         </td><td>?         </td><td>n         </td><td>y         </td><td>y         </td><td>y         </td><td>n         </td><td>n         </td><td>n         </td><td>y         </td><td>n         </td><td>y         </td><td>y         </td><td>y         </td><td>n         </td><td>n         </td></tr>\n",
       "\t<tr><th scope=row>120</th><td>republican</td><td>n         </td><td>n         </td><td>n         </td><td>y         </td><td>y         </td><td>y         </td><td>n         </td><td>n         </td><td>n         </td><td>n         </td><td>n         </td><td>y         </td><td>y         </td><td>y         </td><td>n         </td><td>n         </td></tr>\n",
       "\t<tr><th scope=row>186</th><td>democrat  </td><td>y         </td><td>n         </td><td>y         </td><td>n         </td><td>n         </td><td>n         </td><td>y         </td><td>y         </td><td>y         </td><td>y         </td><td>n         </td><td>?         </td><td>n         </td><td>n         </td><td>y         </td><td>y         </td></tr>\n",
       "\t<tr><th scope=row>159</th><td>republican</td><td>n         </td><td>y         </td><td>n         </td><td>y         </td><td>y         </td><td>y         </td><td>n         </td><td>n         </td><td>n         </td><td>y         </td><td>n         </td><td>y         </td><td>y         </td><td>y         </td><td>n         </td><td>n         </td></tr>\n",
       "\t<tr><th scope=row>336</th><td>republican</td><td>n         </td><td>n         </td><td>n         </td><td>y         </td><td>y         </td><td>y         </td><td>n         </td><td>n         </td><td>n         </td><td>y         </td><td>y         </td><td>y         </td><td>y         </td><td>y         </td><td>n         </td><td>?         </td></tr>\n",
       "\t<tr><th scope=row>272</th><td>democrat  </td><td>n         </td><td>y         </td><td>y         </td><td>n         </td><td>n         </td><td>y         </td><td>y         </td><td>y         </td><td>y         </td><td>n         </td><td>?         </td><td>n         </td><td>n         </td><td>n         </td><td>n         </td><td>y         </td></tr>\n",
       "\t<tr><th scope=row>333</th><td>democrat  </td><td>y         </td><td>n         </td><td>y         </td><td>n         </td><td>n         </td><td>n         </td><td>y         </td><td>y         </td><td>y         </td><td>n         </td><td>y         </td><td>n         </td><td>n         </td><td>n         </td><td>y         </td><td>?         </td></tr>\n",
       "\t<tr><th scope=row>97</th><td>democrat  </td><td>n         </td><td>n         </td><td>?         </td><td>n         </td><td>y         </td><td>y         </td><td>n         </td><td>n         </td><td>n         </td><td>n         </td><td>y         </td><td>y         </td><td>y         </td><td>y         </td><td>n         </td><td>y         </td></tr>\n",
       "\t<tr><th scope=row>349</th><td>democrat  </td><td>y         </td><td>n         </td><td>y         </td><td>n         </td><td>n         </td><td>n         </td><td>y         </td><td>y         </td><td>y         </td><td>y         </td><td>n         </td><td>y         </td><td>n         </td><td>n         </td><td>y         </td><td>?         </td></tr>\n",
       "\t<tr><th scope=row>422</th><td>democrat  </td><td>n         </td><td>y         </td><td>y         </td><td>n         </td><td>y         </td><td>y         </td><td>y         </td><td>y         </td><td>n         </td><td>n         </td><td>y         </td><td>n         </td><td>y         </td><td>n         </td><td>y         </td><td>y         </td></tr>\n",
       "\t<tr><th scope=row>99</th><td>democrat  </td><td>y         </td><td>y         </td><td>y         </td><td>n         </td><td>n         </td><td>y         </td><td>y         </td><td>y         </td><td>y         </td><td>y         </td><td>n         </td><td>n         </td><td>n         </td><td>n         </td><td>n         </td><td>y         </td></tr>\n",
       "\t<tr><th scope=row>354</th><td>republican</td><td>n         </td><td>n         </td><td>y         </td><td>y         </td><td>y         </td><td>y         </td><td>y         </td><td>n         </td><td>n         </td><td>y         </td><td>y         </td><td>y         </td><td>y         </td><td>y         </td><td>n         </td><td>y         </td></tr>\n",
       "\t<tr><th scope=row>412</th><td>democrat  </td><td>y         </td><td>n         </td><td>y         </td><td>n         </td><td>n         </td><td>y         </td><td>y         </td><td>y         </td><td>y         </td><td>y         </td><td>y         </td><td>n         </td><td>n         </td><td>n         </td><td>n         </td><td>y         </td></tr>\n",
       "\t<tr><th scope=row>44</th><td>democrat  </td><td>y         </td><td>n         </td><td>y         </td><td>n         </td><td>n         </td><td>n         </td><td>y         </td><td>y         </td><td>y         </td><td>n         </td><td>n         </td><td>n         </td><td>n         </td><td>n         </td><td>y         </td><td>y         </td></tr>\n",
       "\t<tr><th scope=row>40</th><td>democrat  </td><td>y         </td><td>n         </td><td>y         </td><td>n         </td><td>n         </td><td>n         </td><td>y         </td><td>y         </td><td>y         </td><td>y         </td><td>y         </td><td>n         </td><td>y         </td><td>n         </td><td>y         </td><td>y         </td></tr>\n",
       "\t<tr><th scope=row>393</th><td>republican</td><td>y         </td><td>y         </td><td>n         </td><td>y         </td><td>y         </td><td>y         </td><td>n         </td><td>n         </td><td>n         </td><td>n         </td><td>y         </td><td>y         </td><td>y         </td><td>y         </td><td>n         </td><td>y         </td></tr>\n",
       "\t<tr><th scope=row>189</th><td>republican</td><td>y         </td><td>?         </td><td>n         </td><td>y         </td><td>y         </td><td>y         </td><td>y         </td><td>y         </td><td>n         </td><td>n         </td><td>n         </td><td>y         </td><td>?         </td><td>y         </td><td>?         </td><td>?         </td></tr>\n",
       "\t<tr><th scope=row>400</th><td>republican</td><td>n         </td><td>y         </td><td>n         </td><td>y         </td><td>?         </td><td>y         </td><td>n         </td><td>n         </td><td>n         </td><td>y         </td><td>n         </td><td>y         </td><td>y         </td><td>y         </td><td>n         </td><td>n         </td></tr>\n",
       "\t<tr><th scope=row>301</th><td>republican</td><td>n         </td><td>n         </td><td>n         </td><td>y         </td><td>y         </td><td>n         </td><td>y         </td><td>y         </td><td>y         </td><td>y         </td><td>n         </td><td>y         </td><td>y         </td><td>y         </td><td>n         </td><td>y         </td></tr>\n",
       "\t<tr><th scope=row>175</th><td>democrat  </td><td>y         </td><td>?         </td><td>y         </td><td>n         </td><td>n         </td><td>n         </td><td>y         </td><td>y         </td><td>y         </td><td>n         </td><td>n         </td><td>n         </td><td>n         </td><td>n         </td><td>y         </td><td>?         </td></tr>\n",
       "\t<tr><th scope=row>131</th><td>democrat  </td><td>y         </td><td>?         </td><td>y         </td><td>n         </td><td>?         </td><td>?         </td><td>y         </td><td>y         </td><td>y         </td><td>n         </td><td>n         </td><td>n         </td><td>n         </td><td>n         </td><td>y         </td><td>?         </td></tr>\n",
       "\t<tr><th scope=row>315</th><td>republican</td><td>n         </td><td>y         </td><td>n         </td><td>y         </td><td>y         </td><td>y         </td><td>y         </td><td>y         </td><td>n         </td><td>n         </td><td>y         </td><td>y         </td><td>y         </td><td>y         </td><td>y         </td><td>y         </td></tr>\n",
       "\t<tr><th scope=row>154</th><td>democrat  </td><td>n         </td><td>n         </td><td>y         </td><td>n         </td><td>n         </td><td>y         </td><td>y         </td><td>y         </td><td>y         </td><td>y         </td><td>y         </td><td>n         </td><td>y         </td><td>y         </td><td>n         </td><td>y         </td></tr>\n",
       "</tbody>\n",
       "</table>\n"
      ],
      "text/latex": [
       "\\begin{tabular}{r|lllllllllllllllll}\n",
       "  & V1 & V2 & V3 & V4 & V5 & V6 & V7 & V8 & V9 & V10 & V11 & V12 & V13 & V14 & V15 & V16 & V17\\\\\n",
       "\\hline\n",
       "\t160 & democrat   & n          & y          & y          & n          & ?          & y          & y          & y          & y          & y          & y          & n          & n          & ?          & n          & ?         \\\\\n",
       "\t213 & democrat   & n          & n          & y          & n          & n          & n          & y          & y          & y          & n          & y          & n          & n          & n          & y          & y         \\\\\n",
       "\t130 & democrat   & ?          & ?          & y          & n          & n          & n          & y          & y          & ?          & n          & ?          & ?          & ?          & ?          & ?          & ?         \\\\\n",
       "\t279 & republican & n          & n          & n          & y          & y          & y          & n          & n          & n          & n          & n          & y          & y          & y          & n          & y         \\\\\n",
       "\t162 & democrat   & n          & n          & n          & n          & y          & y          & y          & n          & n          & n          & n          & y          & y          & y          & n          & y         \\\\\n",
       "\t276 & democrat   & n          & n          & y          & n          & y          & y          & n          & n          & n          & n          & ?          & n          & y          & y          & n          & n         \\\\\n",
       "\t182 & democrat   & n          & n          & y          & n          & n          & n          & y          & y          & y          & y          & y          & n          & n          & n          & y          & y         \\\\\n",
       "\t78 & democrat   & n          & y          & y          & y          & y          & y          & n          & y          & y          & y          & y          & y          & y          & y          & n          & y         \\\\\n",
       "\t335 & democrat   & n          & y          & y          & n          & n          & y          & y          & y          & ?          & n          & y          & y          & n          & n          & y          & y         \\\\\n",
       "\t382 & democrat   & y          & y          & y          & n          & y          & y          & y          & y          & y          & y          & y          & n          & y          & y          & n          & ?         \\\\\n",
       "\t418 & democrat   & y          & y          & y          & n          & n          & n          & y          & y          & y          & y          & y          & n          & y          & n          & n          & y         \\\\\n",
       "\t254 & republican & n          & y          & n          & y          & y          & y          & n          & n          & n          & n          & n          & y          & y          & y          & n          & y         \\\\\n",
       "\t58 & republican & n          & y          & n          & y          & y          & y          & n          & n          & n          & y          & n          & y          & y          & y          & n          & y         \\\\\n",
       "\t251 & republican & n          & y          & n          & y          & y          & y          & n          & n          & n          & n          & n          & y          & y          & y          & n          & n         \\\\\n",
       "\t165 & democrat   & y          & y          & n          & n          & y          & y          & n          & n          & n          & y          & y          & y          & y          & y          & n          & ?         \\\\\n",
       "\t27 & democrat   & y          & n          & y          & n          & n          & n          & y          & y          & y          & n          & y          & n          & n          & n          & y          & y         \\\\\n",
       "\t222 & democrat   & n          & y          & y          & n          & y          & y          & n          & n          & n          & n          & y          & n          & n          & n          & y          & ?         \\\\\n",
       "\t181 & democrat   & ?          & ?          & y          & n          & n          & n          & y          & y          & y          & ?          & ?          & n          & n          & n          & ?          & ?         \\\\\n",
       "\t411 & republican & n          & n          & n          & y          & y          & y          & n          & n          & n          & n          & y          & y          & y          & y          & n          & y         \\\\\n",
       "\t290 & democrat   & y          & y          & y          & n          & y          & y          & n          & y          & n          & y          & y          & n          & y          & y          & n          & ?         \\\\\n",
       "\t62 & republican & n          & y          & n          & y          & y          & y          & n          & n          & n          & n          & n          & y          & y          & y          & n          & n         \\\\\n",
       "\t297 & republican & n          & n          & y          & y          & y          & y          & n          & n          & n          & y          & n          & y          & y          & y          & y          & y         \\\\\n",
       "\t220 & democrat   & n          & y          & y          & n          & n          & n          & n          & y          & y          & n          & y          & n          & n          & y          & y          & y         \\\\\n",
       "\t113 & democrat   & n          & ?          & y          & n          & n          & y          & y          & y          & n          & y          & n          & n          & n          & n          & y          & ?         \\\\\n",
       "\t302 & democrat   & n          & n          & ?          & n          & n          & y          & y          & y          & y          & n          & n          & n          & n          & n          & y          & y         \\\\\n",
       "\t203 & democrat   & y          & n          & y          & n          & n          & y          & y          & y          & y          & y          & y          & n          & n          & n          & y          & y         \\\\\n",
       "\t275 & republican & y          & n          & n          & y          & y          & n          & y          & n          & n          & y          & n          & n          & n          & y          & y          & y         \\\\\n",
       "\t132 & democrat   & n          & n          & y          & n          & n          & y          & n          & y          & y          & y          & n          & n          & n          & y          & n          & y         \\\\\n",
       "\t322 & democrat   & y          & y          & y          & n          & n          & n          & y          & y          & y          & y          & n          & n          & y          & n          & n          & y         \\\\\n",
       "\t239 & democrat   & y          & y          & y          & n          & n          & n          & y          & y          & ?          & y          & n          & n          & n          & n          & y          & ?         \\\\\n",
       "\t... & ... & ... & ... & ... & ... & ... & ... & ... & ... & ... & ... & ... & ... & ... & ... & ... & ...\\\\\n",
       "\t221 & democrat   & n          & n          & y          & n          & n          & n          & y          & y          & y          & n          & n          & n          & n          & n          & y          & ?         \\\\\n",
       "\t386 & democrat   & y          & y          & n          & n          & y          & y          & n          & n          & n          & n          & y          & y          & y          & y          & y          & n         \\\\\n",
       "\t119 & democrat   & n          & y          & y          & n          & n          & n          & n          & y          & y          & y          & y          & n          & n          & n          & y          & y         \\\\\n",
       "\t435 & republican & n          & y          & n          & y          & y          & y          & n          & n          & n          & y          & n          & y          & y          & y          & ?          & n         \\\\\n",
       "\t303 & republican & n          & n          & n          & y          & y          & y          & y          & n          & n          & y          & n          & y          & y          & y          & n          & y         \\\\\n",
       "\t111 & democrat   & n          & n          & y          & n          & n          & n          & y          & y          & y          & y          & n          & n          & n          & n          & y          & y         \\\\\n",
       "\t258 & republican & n          & n          & n          & y          & y          & n          & n          & n          & n          & n          & n          & y          & n          & y          & ?          & y         \\\\\n",
       "\t85 & republican & n          & ?          & n          & y          & y          & y          & n          & n          & n          & y          & n          & y          & y          & y          & n          & n         \\\\\n",
       "\t120 & republican & n          & n          & n          & y          & y          & y          & n          & n          & n          & n          & n          & y          & y          & y          & n          & n         \\\\\n",
       "\t186 & democrat   & y          & n          & y          & n          & n          & n          & y          & y          & y          & y          & n          & ?          & n          & n          & y          & y         \\\\\n",
       "\t159 & republican & n          & y          & n          & y          & y          & y          & n          & n          & n          & y          & n          & y          & y          & y          & n          & n         \\\\\n",
       "\t336 & republican & n          & n          & n          & y          & y          & y          & n          & n          & n          & y          & y          & y          & y          & y          & n          & ?         \\\\\n",
       "\t272 & democrat   & n          & y          & y          & n          & n          & y          & y          & y          & y          & n          & ?          & n          & n          & n          & n          & y         \\\\\n",
       "\t333 & democrat   & y          & n          & y          & n          & n          & n          & y          & y          & y          & n          & y          & n          & n          & n          & y          & ?         \\\\\n",
       "\t97 & democrat   & n          & n          & ?          & n          & y          & y          & n          & n          & n          & n          & y          & y          & y          & y          & n          & y         \\\\\n",
       "\t349 & democrat   & y          & n          & y          & n          & n          & n          & y          & y          & y          & y          & n          & y          & n          & n          & y          & ?         \\\\\n",
       "\t422 & democrat   & n          & y          & y          & n          & y          & y          & y          & y          & n          & n          & y          & n          & y          & n          & y          & y         \\\\\n",
       "\t99 & democrat   & y          & y          & y          & n          & n          & y          & y          & y          & y          & y          & n          & n          & n          & n          & n          & y         \\\\\n",
       "\t354 & republican & n          & n          & y          & y          & y          & y          & y          & n          & n          & y          & y          & y          & y          & y          & n          & y         \\\\\n",
       "\t412 & democrat   & y          & n          & y          & n          & n          & y          & y          & y          & y          & y          & y          & n          & n          & n          & n          & y         \\\\\n",
       "\t44 & democrat   & y          & n          & y          & n          & n          & n          & y          & y          & y          & n          & n          & n          & n          & n          & y          & y         \\\\\n",
       "\t40 & democrat   & y          & n          & y          & n          & n          & n          & y          & y          & y          & y          & y          & n          & y          & n          & y          & y         \\\\\n",
       "\t393 & republican & y          & y          & n          & y          & y          & y          & n          & n          & n          & n          & y          & y          & y          & y          & n          & y         \\\\\n",
       "\t189 & republican & y          & ?          & n          & y          & y          & y          & y          & y          & n          & n          & n          & y          & ?          & y          & ?          & ?         \\\\\n",
       "\t400 & republican & n          & y          & n          & y          & ?          & y          & n          & n          & n          & y          & n          & y          & y          & y          & n          & n         \\\\\n",
       "\t301 & republican & n          & n          & n          & y          & y          & n          & y          & y          & y          & y          & n          & y          & y          & y          & n          & y         \\\\\n",
       "\t175 & democrat   & y          & ?          & y          & n          & n          & n          & y          & y          & y          & n          & n          & n          & n          & n          & y          & ?         \\\\\n",
       "\t131 & democrat   & y          & ?          & y          & n          & ?          & ?          & y          & y          & y          & n          & n          & n          & n          & n          & y          & ?         \\\\\n",
       "\t315 & republican & n          & y          & n          & y          & y          & y          & y          & y          & n          & n          & y          & y          & y          & y          & y          & y         \\\\\n",
       "\t154 & democrat   & n          & n          & y          & n          & n          & y          & y          & y          & y          & y          & y          & n          & y          & y          & n          & y         \\\\\n",
       "\\end{tabular}\n"
      ],
      "text/markdown": [
       "\n",
       "| <!--/--> | V1 | V2 | V3 | V4 | V5 | V6 | V7 | V8 | V9 | V10 | V11 | V12 | V13 | V14 | V15 | V16 | V17 | \n",
       "|---|---|---|---|---|---|---|---|---|---|---|---|---|---|---|---|---|---|---|---|---|---|---|---|---|---|---|---|---|---|---|---|---|---|---|---|---|---|---|---|---|---|---|---|---|---|---|---|---|---|---|---|---|---|---|---|---|---|---|---|---|\n",
       "| 160 | democrat   | n          | y          | y          | n          | ?          | y          | y          | y          | y          | y          | y          | n          | n          | ?          | n          | ?          | \n",
       "| 213 | democrat   | n          | n          | y          | n          | n          | n          | y          | y          | y          | n          | y          | n          | n          | n          | y          | y          | \n",
       "| 130 | democrat   | ?          | ?          | y          | n          | n          | n          | y          | y          | ?          | n          | ?          | ?          | ?          | ?          | ?          | ?          | \n",
       "| 279 | republican | n          | n          | n          | y          | y          | y          | n          | n          | n          | n          | n          | y          | y          | y          | n          | y          | \n",
       "| 162 | democrat   | n          | n          | n          | n          | y          | y          | y          | n          | n          | n          | n          | y          | y          | y          | n          | y          | \n",
       "| 276 | democrat   | n          | n          | y          | n          | y          | y          | n          | n          | n          | n          | ?          | n          | y          | y          | n          | n          | \n",
       "| 182 | democrat   | n          | n          | y          | n          | n          | n          | y          | y          | y          | y          | y          | n          | n          | n          | y          | y          | \n",
       "| 78 | democrat   | n          | y          | y          | y          | y          | y          | n          | y          | y          | y          | y          | y          | y          | y          | n          | y          | \n",
       "| 335 | democrat   | n          | y          | y          | n          | n          | y          | y          | y          | ?          | n          | y          | y          | n          | n          | y          | y          | \n",
       "| 382 | democrat   | y          | y          | y          | n          | y          | y          | y          | y          | y          | y          | y          | n          | y          | y          | n          | ?          | \n",
       "| 418 | democrat   | y          | y          | y          | n          | n          | n          | y          | y          | y          | y          | y          | n          | y          | n          | n          | y          | \n",
       "| 254 | republican | n          | y          | n          | y          | y          | y          | n          | n          | n          | n          | n          | y          | y          | y          | n          | y          | \n",
       "| 58 | republican | n          | y          | n          | y          | y          | y          | n          | n          | n          | y          | n          | y          | y          | y          | n          | y          | \n",
       "| 251 | republican | n          | y          | n          | y          | y          | y          | n          | n          | n          | n          | n          | y          | y          | y          | n          | n          | \n",
       "| 165 | democrat   | y          | y          | n          | n          | y          | y          | n          | n          | n          | y          | y          | y          | y          | y          | n          | ?          | \n",
       "| 27 | democrat   | y          | n          | y          | n          | n          | n          | y          | y          | y          | n          | y          | n          | n          | n          | y          | y          | \n",
       "| 222 | democrat   | n          | y          | y          | n          | y          | y          | n          | n          | n          | n          | y          | n          | n          | n          | y          | ?          | \n",
       "| 181 | democrat   | ?          | ?          | y          | n          | n          | n          | y          | y          | y          | ?          | ?          | n          | n          | n          | ?          | ?          | \n",
       "| 411 | republican | n          | n          | n          | y          | y          | y          | n          | n          | n          | n          | y          | y          | y          | y          | n          | y          | \n",
       "| 290 | democrat   | y          | y          | y          | n          | y          | y          | n          | y          | n          | y          | y          | n          | y          | y          | n          | ?          | \n",
       "| 62 | republican | n          | y          | n          | y          | y          | y          | n          | n          | n          | n          | n          | y          | y          | y          | n          | n          | \n",
       "| 297 | republican | n          | n          | y          | y          | y          | y          | n          | n          | n          | y          | n          | y          | y          | y          | y          | y          | \n",
       "| 220 | democrat   | n          | y          | y          | n          | n          | n          | n          | y          | y          | n          | y          | n          | n          | y          | y          | y          | \n",
       "| 113 | democrat   | n          | ?          | y          | n          | n          | y          | y          | y          | n          | y          | n          | n          | n          | n          | y          | ?          | \n",
       "| 302 | democrat   | n          | n          | ?          | n          | n          | y          | y          | y          | y          | n          | n          | n          | n          | n          | y          | y          | \n",
       "| 203 | democrat   | y          | n          | y          | n          | n          | y          | y          | y          | y          | y          | y          | n          | n          | n          | y          | y          | \n",
       "| 275 | republican | y          | n          | n          | y          | y          | n          | y          | n          | n          | y          | n          | n          | n          | y          | y          | y          | \n",
       "| 132 | democrat   | n          | n          | y          | n          | n          | y          | n          | y          | y          | y          | n          | n          | n          | y          | n          | y          | \n",
       "| 322 | democrat   | y          | y          | y          | n          | n          | n          | y          | y          | y          | y          | n          | n          | y          | n          | n          | y          | \n",
       "| 239 | democrat   | y          | y          | y          | n          | n          | n          | y          | y          | ?          | y          | n          | n          | n          | n          | y          | ?          | \n",
       "| ... | ... | ... | ... | ... | ... | ... | ... | ... | ... | ... | ... | ... | ... | ... | ... | ... | ... | \n",
       "| 221 | democrat   | n          | n          | y          | n          | n          | n          | y          | y          | y          | n          | n          | n          | n          | n          | y          | ?          | \n",
       "| 386 | democrat   | y          | y          | n          | n          | y          | y          | n          | n          | n          | n          | y          | y          | y          | y          | y          | n          | \n",
       "| 119 | democrat   | n          | y          | y          | n          | n          | n          | n          | y          | y          | y          | y          | n          | n          | n          | y          | y          | \n",
       "| 435 | republican | n          | y          | n          | y          | y          | y          | n          | n          | n          | y          | n          | y          | y          | y          | ?          | n          | \n",
       "| 303 | republican | n          | n          | n          | y          | y          | y          | y          | n          | n          | y          | n          | y          | y          | y          | n          | y          | \n",
       "| 111 | democrat   | n          | n          | y          | n          | n          | n          | y          | y          | y          | y          | n          | n          | n          | n          | y          | y          | \n",
       "| 258 | republican | n          | n          | n          | y          | y          | n          | n          | n          | n          | n          | n          | y          | n          | y          | ?          | y          | \n",
       "| 85 | republican | n          | ?          | n          | y          | y          | y          | n          | n          | n          | y          | n          | y          | y          | y          | n          | n          | \n",
       "| 120 | republican | n          | n          | n          | y          | y          | y          | n          | n          | n          | n          | n          | y          | y          | y          | n          | n          | \n",
       "| 186 | democrat   | y          | n          | y          | n          | n          | n          | y          | y          | y          | y          | n          | ?          | n          | n          | y          | y          | \n",
       "| 159 | republican | n          | y          | n          | y          | y          | y          | n          | n          | n          | y          | n          | y          | y          | y          | n          | n          | \n",
       "| 336 | republican | n          | n          | n          | y          | y          | y          | n          | n          | n          | y          | y          | y          | y          | y          | n          | ?          | \n",
       "| 272 | democrat   | n          | y          | y          | n          | n          | y          | y          | y          | y          | n          | ?          | n          | n          | n          | n          | y          | \n",
       "| 333 | democrat   | y          | n          | y          | n          | n          | n          | y          | y          | y          | n          | y          | n          | n          | n          | y          | ?          | \n",
       "| 97 | democrat   | n          | n          | ?          | n          | y          | y          | n          | n          | n          | n          | y          | y          | y          | y          | n          | y          | \n",
       "| 349 | democrat   | y          | n          | y          | n          | n          | n          | y          | y          | y          | y          | n          | y          | n          | n          | y          | ?          | \n",
       "| 422 | democrat   | n          | y          | y          | n          | y          | y          | y          | y          | n          | n          | y          | n          | y          | n          | y          | y          | \n",
       "| 99 | democrat   | y          | y          | y          | n          | n          | y          | y          | y          | y          | y          | n          | n          | n          | n          | n          | y          | \n",
       "| 354 | republican | n          | n          | y          | y          | y          | y          | y          | n          | n          | y          | y          | y          | y          | y          | n          | y          | \n",
       "| 412 | democrat   | y          | n          | y          | n          | n          | y          | y          | y          | y          | y          | y          | n          | n          | n          | n          | y          | \n",
       "| 44 | democrat   | y          | n          | y          | n          | n          | n          | y          | y          | y          | n          | n          | n          | n          | n          | y          | y          | \n",
       "| 40 | democrat   | y          | n          | y          | n          | n          | n          | y          | y          | y          | y          | y          | n          | y          | n          | y          | y          | \n",
       "| 393 | republican | y          | y          | n          | y          | y          | y          | n          | n          | n          | n          | y          | y          | y          | y          | n          | y          | \n",
       "| 189 | republican | y          | ?          | n          | y          | y          | y          | y          | y          | n          | n          | n          | y          | ?          | y          | ?          | ?          | \n",
       "| 400 | republican | n          | y          | n          | y          | ?          | y          | n          | n          | n          | y          | n          | y          | y          | y          | n          | n          | \n",
       "| 301 | republican | n          | n          | n          | y          | y          | n          | y          | y          | y          | y          | n          | y          | y          | y          | n          | y          | \n",
       "| 175 | democrat   | y          | ?          | y          | n          | n          | n          | y          | y          | y          | n          | n          | n          | n          | n          | y          | ?          | \n",
       "| 131 | democrat   | y          | ?          | y          | n          | ?          | ?          | y          | y          | y          | n          | n          | n          | n          | n          | y          | ?          | \n",
       "| 315 | republican | n          | y          | n          | y          | y          | y          | y          | y          | n          | n          | y          | y          | y          | y          | y          | y          | \n",
       "| 154 | democrat   | n          | n          | y          | n          | n          | y          | y          | y          | y          | y          | y          | n          | y          | y          | n          | y          | \n",
       "\n",
       "\n"
      ],
      "text/plain": [
       "    V1         V2  V3  V4  V5  V6  V7  V8  V9  V10 V11 V12 V13 V14 V15 V16 V17\n",
       "160 democrat   n   y   y   n   ?   y   y   y   y   y   y   n   n   ?   n   ?  \n",
       "213 democrat   n   n   y   n   n   n   y   y   y   n   y   n   n   n   y   y  \n",
       "130 democrat   ?   ?   y   n   n   n   y   y   ?   n   ?   ?   ?   ?   ?   ?  \n",
       "279 republican n   n   n   y   y   y   n   n   n   n   n   y   y   y   n   y  \n",
       "162 democrat   n   n   n   n   y   y   y   n   n   n   n   y   y   y   n   y  \n",
       "276 democrat   n   n   y   n   y   y   n   n   n   n   ?   n   y   y   n   n  \n",
       "182 democrat   n   n   y   n   n   n   y   y   y   y   y   n   n   n   y   y  \n",
       "78  democrat   n   y   y   y   y   y   n   y   y   y   y   y   y   y   n   y  \n",
       "335 democrat   n   y   y   n   n   y   y   y   ?   n   y   y   n   n   y   y  \n",
       "382 democrat   y   y   y   n   y   y   y   y   y   y   y   n   y   y   n   ?  \n",
       "418 democrat   y   y   y   n   n   n   y   y   y   y   y   n   y   n   n   y  \n",
       "254 republican n   y   n   y   y   y   n   n   n   n   n   y   y   y   n   y  \n",
       "58  republican n   y   n   y   y   y   n   n   n   y   n   y   y   y   n   y  \n",
       "251 republican n   y   n   y   y   y   n   n   n   n   n   y   y   y   n   n  \n",
       "165 democrat   y   y   n   n   y   y   n   n   n   y   y   y   y   y   n   ?  \n",
       "27  democrat   y   n   y   n   n   n   y   y   y   n   y   n   n   n   y   y  \n",
       "222 democrat   n   y   y   n   y   y   n   n   n   n   y   n   n   n   y   ?  \n",
       "181 democrat   ?   ?   y   n   n   n   y   y   y   ?   ?   n   n   n   ?   ?  \n",
       "411 republican n   n   n   y   y   y   n   n   n   n   y   y   y   y   n   y  \n",
       "290 democrat   y   y   y   n   y   y   n   y   n   y   y   n   y   y   n   ?  \n",
       "62  republican n   y   n   y   y   y   n   n   n   n   n   y   y   y   n   n  \n",
       "297 republican n   n   y   y   y   y   n   n   n   y   n   y   y   y   y   y  \n",
       "220 democrat   n   y   y   n   n   n   n   y   y   n   y   n   n   y   y   y  \n",
       "113 democrat   n   ?   y   n   n   y   y   y   n   y   n   n   n   n   y   ?  \n",
       "302 democrat   n   n   ?   n   n   y   y   y   y   n   n   n   n   n   y   y  \n",
       "203 democrat   y   n   y   n   n   y   y   y   y   y   y   n   n   n   y   y  \n",
       "275 republican y   n   n   y   y   n   y   n   n   y   n   n   n   y   y   y  \n",
       "132 democrat   n   n   y   n   n   y   n   y   y   y   n   n   n   y   n   y  \n",
       "322 democrat   y   y   y   n   n   n   y   y   y   y   n   n   y   n   n   y  \n",
       "239 democrat   y   y   y   n   n   n   y   y   ?   y   n   n   n   n   y   ?  \n",
       "... ...        ... ... ... ... ... ... ... ... ... ... ... ... ... ... ... ...\n",
       "221 democrat   n   n   y   n   n   n   y   y   y   n   n   n   n   n   y   ?  \n",
       "386 democrat   y   y   n   n   y   y   n   n   n   n   y   y   y   y   y   n  \n",
       "119 democrat   n   y   y   n   n   n   n   y   y   y   y   n   n   n   y   y  \n",
       "435 republican n   y   n   y   y   y   n   n   n   y   n   y   y   y   ?   n  \n",
       "303 republican n   n   n   y   y   y   y   n   n   y   n   y   y   y   n   y  \n",
       "111 democrat   n   n   y   n   n   n   y   y   y   y   n   n   n   n   y   y  \n",
       "258 republican n   n   n   y   y   n   n   n   n   n   n   y   n   y   ?   y  \n",
       "85  republican n   ?   n   y   y   y   n   n   n   y   n   y   y   y   n   n  \n",
       "120 republican n   n   n   y   y   y   n   n   n   n   n   y   y   y   n   n  \n",
       "186 democrat   y   n   y   n   n   n   y   y   y   y   n   ?   n   n   y   y  \n",
       "159 republican n   y   n   y   y   y   n   n   n   y   n   y   y   y   n   n  \n",
       "336 republican n   n   n   y   y   y   n   n   n   y   y   y   y   y   n   ?  \n",
       "272 democrat   n   y   y   n   n   y   y   y   y   n   ?   n   n   n   n   y  \n",
       "333 democrat   y   n   y   n   n   n   y   y   y   n   y   n   n   n   y   ?  \n",
       "97  democrat   n   n   ?   n   y   y   n   n   n   n   y   y   y   y   n   y  \n",
       "349 democrat   y   n   y   n   n   n   y   y   y   y   n   y   n   n   y   ?  \n",
       "422 democrat   n   y   y   n   y   y   y   y   n   n   y   n   y   n   y   y  \n",
       "99  democrat   y   y   y   n   n   y   y   y   y   y   n   n   n   n   n   y  \n",
       "354 republican n   n   y   y   y   y   y   n   n   y   y   y   y   y   n   y  \n",
       "412 democrat   y   n   y   n   n   y   y   y   y   y   y   n   n   n   n   y  \n",
       "44  democrat   y   n   y   n   n   n   y   y   y   n   n   n   n   n   y   y  \n",
       "40  democrat   y   n   y   n   n   n   y   y   y   y   y   n   y   n   y   y  \n",
       "393 republican y   y   n   y   y   y   n   n   n   n   y   y   y   y   n   y  \n",
       "189 republican y   ?   n   y   y   y   y   y   n   n   n   y   ?   y   ?   ?  \n",
       "400 republican n   y   n   y   ?   y   n   n   n   y   n   y   y   y   n   n  \n",
       "301 republican n   n   n   y   y   n   y   y   y   y   n   y   y   y   n   y  \n",
       "175 democrat   y   ?   y   n   n   n   y   y   y   n   n   n   n   n   y   ?  \n",
       "131 democrat   y   ?   y   n   ?   ?   y   y   y   n   n   n   n   n   y   ?  \n",
       "315 republican n   y   n   y   y   y   y   y   n   n   y   y   y   y   y   y  \n",
       "154 democrat   n   n   y   n   n   y   y   y   y   y   y   n   y   y   n   y  "
      ]
     },
     "metadata": {},
     "output_type": "display_data"
    }
   ],
   "source": [
    "X[test,]"
   ]
  },
  {
   "cell_type": "code",
   "execution_count": 6,
   "metadata": {
    "collapsed": false
   },
   "outputs": [
    {
     "data": {
      "text/html": [
       "130"
      ],
      "text/latex": [
       "130"
      ],
      "text/markdown": [
       "130"
      ],
      "text/plain": [
       "[1] 130"
      ]
     },
     "metadata": {},
     "output_type": "display_data"
    }
   ],
   "source": [
    "nrow(X[test,])\n",
    "modeldata<-X[test,]"
   ]
  },
  {
   "cell_type": "code",
   "execution_count": 7,
   "metadata": {
    "collapsed": false
   },
   "outputs": [
    {
     "data": {
      "text/html": [
       "<table>\n",
       "<thead><tr><th></th><th scope=col>V1</th><th scope=col>V2</th><th scope=col>V3</th><th scope=col>V4</th><th scope=col>V5</th><th scope=col>V6</th><th scope=col>V7</th><th scope=col>V8</th><th scope=col>V9</th><th scope=col>V10</th><th scope=col>V11</th><th scope=col>V12</th><th scope=col>V13</th><th scope=col>V14</th><th scope=col>V15</th><th scope=col>V16</th><th scope=col>V17</th></tr></thead>\n",
       "<tbody>\n",
       "\t<tr><th scope=row>1</th><td>republican</td><td>n         </td><td>y         </td><td>n         </td><td>y         </td><td>y         </td><td>y         </td><td>n         </td><td>n         </td><td>n         </td><td>y         </td><td>?         </td><td>y         </td><td>y         </td><td>y         </td><td>n         </td><td>y         </td></tr>\n",
       "\t<tr><th scope=row>2</th><td>republican</td><td>n         </td><td>y         </td><td>n         </td><td>y         </td><td>y         </td><td>y         </td><td>n         </td><td>n         </td><td>n         </td><td>n         </td><td>n         </td><td>y         </td><td>y         </td><td>y         </td><td>n         </td><td>?         </td></tr>\n",
       "\t<tr><th scope=row>4</th><td>democrat  </td><td>n         </td><td>y         </td><td>y         </td><td>n         </td><td>?         </td><td>y         </td><td>n         </td><td>n         </td><td>n         </td><td>n         </td><td>y         </td><td>n         </td><td>y         </td><td>n         </td><td>n         </td><td>y         </td></tr>\n",
       "\t<tr><th scope=row>5</th><td>democrat  </td><td>y         </td><td>y         </td><td>y         </td><td>n         </td><td>y         </td><td>y         </td><td>n         </td><td>n         </td><td>n         </td><td>n         </td><td>y         </td><td>?         </td><td>y         </td><td>y         </td><td>y         </td><td>y         </td></tr>\n",
       "\t<tr><th scope=row>7</th><td>democrat  </td><td>n         </td><td>y         </td><td>n         </td><td>y         </td><td>y         </td><td>y         </td><td>n         </td><td>n         </td><td>n         </td><td>n         </td><td>n         </td><td>n         </td><td>?         </td><td>y         </td><td>y         </td><td>y         </td></tr>\n",
       "\t<tr><th scope=row>8</th><td>republican</td><td>n         </td><td>y         </td><td>n         </td><td>y         </td><td>y         </td><td>y         </td><td>n         </td><td>n         </td><td>n         </td><td>n         </td><td>n         </td><td>n         </td><td>y         </td><td>y         </td><td>?         </td><td>y         </td></tr>\n",
       "\t<tr><th scope=row>9</th><td>republican</td><td>n         </td><td>y         </td><td>n         </td><td>y         </td><td>y         </td><td>y         </td><td>n         </td><td>n         </td><td>n         </td><td>n         </td><td>n         </td><td>y         </td><td>y         </td><td>y         </td><td>n         </td><td>y         </td></tr>\n",
       "\t<tr><th scope=row>11</th><td>republican</td><td>n         </td><td>y         </td><td>n         </td><td>y         </td><td>y         </td><td>n         </td><td>n         </td><td>n         </td><td>n         </td><td>n         </td><td>?         </td><td>?         </td><td>y         </td><td>y         </td><td>n         </td><td>n         </td></tr>\n",
       "\t<tr><th scope=row>12</th><td>republican</td><td>n         </td><td>y         </td><td>n         </td><td>y         </td><td>y         </td><td>y         </td><td>n         </td><td>n         </td><td>n         </td><td>n         </td><td>y         </td><td>?         </td><td>y         </td><td>y         </td><td>?         </td><td>?         </td></tr>\n",
       "\t<tr><th scope=row>13</th><td>democrat  </td><td>n         </td><td>y         </td><td>y         </td><td>n         </td><td>n         </td><td>n         </td><td>y         </td><td>y         </td><td>y         </td><td>n         </td><td>n         </td><td>n         </td><td>y         </td><td>n         </td><td>?         </td><td>?         </td></tr>\n",
       "\t<tr><th scope=row>14</th><td>democrat  </td><td>y         </td><td>y         </td><td>y         </td><td>n         </td><td>n         </td><td>y         </td><td>y         </td><td>y         </td><td>?         </td><td>y         </td><td>y         </td><td>?         </td><td>n         </td><td>n         </td><td>y         </td><td>?         </td></tr>\n",
       "\t<tr><th scope=row>15</th><td>republican</td><td>n         </td><td>y         </td><td>n         </td><td>y         </td><td>y         </td><td>y         </td><td>n         </td><td>n         </td><td>n         </td><td>n         </td><td>n         </td><td>y         </td><td>?         </td><td>?         </td><td>n         </td><td>?         </td></tr>\n",
       "\t<tr><th scope=row>16</th><td>republican</td><td>n         </td><td>y         </td><td>n         </td><td>y         </td><td>y         </td><td>y         </td><td>n         </td><td>n         </td><td>n         </td><td>y         </td><td>n         </td><td>y         </td><td>y         </td><td>?         </td><td>n         </td><td>?         </td></tr>\n",
       "\t<tr><th scope=row>17</th><td>democrat  </td><td>y         </td><td>n         </td><td>y         </td><td>n         </td><td>n         </td><td>y         </td><td>n         </td><td>y         </td><td>?         </td><td>y         </td><td>y         </td><td>y         </td><td>?         </td><td>n         </td><td>n         </td><td>y         </td></tr>\n",
       "\t<tr><th scope=row>18</th><td>democrat  </td><td>y         </td><td>?         </td><td>y         </td><td>n         </td><td>n         </td><td>n         </td><td>y         </td><td>y         </td><td>y         </td><td>n         </td><td>n         </td><td>n         </td><td>y         </td><td>n         </td><td>y         </td><td>y         </td></tr>\n",
       "\t<tr><th scope=row>20</th><td>democrat  </td><td>y         </td><td>y         </td><td>y         </td><td>n         </td><td>n         </td><td>n         </td><td>y         </td><td>y         </td><td>y         </td><td>n         </td><td>y         </td><td>n         </td><td>n         </td><td>n         </td><td>y         </td><td>y         </td></tr>\n",
       "\t<tr><th scope=row>21</th><td>democrat  </td><td>y         </td><td>y         </td><td>y         </td><td>n         </td><td>n         </td><td>?         </td><td>y         </td><td>y         </td><td>n         </td><td>n         </td><td>y         </td><td>n         </td><td>n         </td><td>n         </td><td>y         </td><td>y         </td></tr>\n",
       "\t<tr><th scope=row>22</th><td>democrat  </td><td>y         </td><td>y         </td><td>y         </td><td>n         </td><td>n         </td><td>n         </td><td>y         </td><td>y         </td><td>y         </td><td>n         </td><td>n         </td><td>n         </td><td>?         </td><td>?         </td><td>y         </td><td>y         </td></tr>\n",
       "\t<tr><th scope=row>23</th><td>democrat  </td><td>y         </td><td>?         </td><td>y         </td><td>n         </td><td>n         </td><td>n         </td><td>y         </td><td>y         </td><td>y         </td><td>n         </td><td>n         </td><td>?         </td><td>n         </td><td>n         </td><td>y         </td><td>y         </td></tr>\n",
       "\t<tr><th scope=row>24</th><td>democrat  </td><td>y         </td><td>y         </td><td>y         </td><td>n         </td><td>n         </td><td>n         </td><td>y         </td><td>y         </td><td>y         </td><td>n         </td><td>n         </td><td>n         </td><td>n         </td><td>n         </td><td>y         </td><td>y         </td></tr>\n",
       "\t<tr><th scope=row>25</th><td>democrat  </td><td>y         </td><td>n         </td><td>y         </td><td>n         </td><td>n         </td><td>n         </td><td>y         </td><td>y         </td><td>y         </td><td>n         </td><td>n         </td><td>n         </td><td>n         </td><td>n         </td><td>y         </td><td>?         </td></tr>\n",
       "\t<tr><th scope=row>26</th><td>democrat  </td><td>y         </td><td>n         </td><td>y         </td><td>n         </td><td>n         </td><td>n         </td><td>y         </td><td>y         </td><td>y         </td><td>y         </td><td>n         </td><td>n         </td><td>n         </td><td>n         </td><td>y         </td><td>y         </td></tr>\n",
       "\t<tr><th scope=row>28</th><td>democrat  </td><td>y         </td><td>y         </td><td>y         </td><td>n         </td><td>n         </td><td>n         </td><td>y         </td><td>y         </td><td>y         </td><td>n         </td><td>y         </td><td>n         </td><td>n         </td><td>n         </td><td>y         </td><td>y         </td></tr>\n",
       "\t<tr><th scope=row>29</th><td>republican</td><td>y         </td><td>n         </td><td>n         </td><td>y         </td><td>y         </td><td>n         </td><td>y         </td><td>y         </td><td>y         </td><td>n         </td><td>n         </td><td>y         </td><td>y         </td><td>y         </td><td>n         </td><td>y         </td></tr>\n",
       "\t<tr><th scope=row>30</th><td>democrat  </td><td>y         </td><td>y         </td><td>y         </td><td>n         </td><td>n         </td><td>n         </td><td>y         </td><td>y         </td><td>y         </td><td>n         </td><td>y         </td><td>n         </td><td>n         </td><td>n         </td><td>y         </td><td>y         </td></tr>\n",
       "\t<tr><th scope=row>31</th><td>republican</td><td>n         </td><td>y         </td><td>n         </td><td>y         </td><td>y         </td><td>y         </td><td>n         </td><td>n         </td><td>n         </td><td>n         </td><td>n         </td><td>y         </td><td>y         </td><td>y         </td><td>n         </td><td>n         </td></tr>\n",
       "\t<tr><th scope=row>32</th><td>democrat  </td><td>y         </td><td>y         </td><td>y         </td><td>n         </td><td>n         </td><td>n         </td><td>y         </td><td>y         </td><td>y         </td><td>n         </td><td>y         </td><td>n         </td><td>n         </td><td>n         </td><td>y         </td><td>?         </td></tr>\n",
       "\t<tr><th scope=row>33</th><td>democrat  </td><td>y         </td><td>y         </td><td>y         </td><td>n         </td><td>n         </td><td>n         </td><td>y         </td><td>y         </td><td>y         </td><td>y         </td><td>n         </td><td>n         </td><td>y         </td><td>n         </td><td>y         </td><td>y         </td></tr>\n",
       "\t<tr><th scope=row>34</th><td>republican</td><td>n         </td><td>y         </td><td>n         </td><td>y         </td><td>y         </td><td>y         </td><td>n         </td><td>n         </td><td>n         </td><td>n         </td><td>n         </td><td>y         </td><td>y         </td><td>y         </td><td>n         </td><td>y         </td></tr>\n",
       "\t<tr><th scope=row>35</th><td>democrat  </td><td>y         </td><td>y         </td><td>y         </td><td>n         </td><td>n         </td><td>n         </td><td>y         </td><td>y         </td><td>y         </td><td>n         </td><td>n         </td><td>n         </td><td>n         </td><td>n         </td><td>y         </td><td>y         </td></tr>\n",
       "\t<tr><th scope=row>...</th><td>...</td><td>...</td><td>...</td><td>...</td><td>...</td><td>...</td><td>...</td><td>...</td><td>...</td><td>...</td><td>...</td><td>...</td><td>...</td><td>...</td><td>...</td><td>...</td><td>...</td></tr>\n",
       "\t<tr><th scope=row>390</th><td>democrat  </td><td>y         </td><td>n         </td><td>y         </td><td>n         </td><td>n         </td><td>n         </td><td>y         </td><td>y         </td><td>y         </td><td>?         </td><td>y         </td><td>n         </td><td>n         </td><td>n         </td><td>y         </td><td>?         </td></tr>\n",
       "\t<tr><th scope=row>392</th><td>democrat  </td><td>y         </td><td>y         </td><td>n         </td><td>n         </td><td>n         </td><td>n         </td><td>n         </td><td>y         </td><td>y         </td><td>n         </td><td>y         </td><td>n         </td><td>n         </td><td>n         </td><td>y         </td><td>n         </td></tr>\n",
       "\t<tr><th scope=row>394</th><td>republican</td><td>?         </td><td>?         </td><td>?         </td><td>?         </td><td>n         </td><td>y         </td><td>n         </td><td>y         </td><td>y         </td><td>n         </td><td>n         </td><td>y         </td><td>y         </td><td>n         </td><td>n         </td><td>?         </td></tr>\n",
       "\t<tr><th scope=row>395</th><td>democrat  </td><td>y         </td><td>y         </td><td>?         </td><td>?         </td><td>?         </td><td>y         </td><td>n         </td><td>n         </td><td>n         </td><td>n         </td><td>y         </td><td>n         </td><td>y         </td><td>n         </td><td>n         </td><td>y         </td></tr>\n",
       "\t<tr><th scope=row>396</th><td>democrat  </td><td>y         </td><td>y         </td><td>y         </td><td>?         </td><td>n         </td><td>n         </td><td>n         </td><td>y         </td><td>n         </td><td>n         </td><td>y         </td><td>?         </td><td>n         </td><td>n         </td><td>y         </td><td>y         </td></tr>\n",
       "\t<tr><th scope=row>397</th><td>democrat  </td><td>y         </td><td>y         </td><td>y         </td><td>n         </td><td>y         </td><td>y         </td><td>n         </td><td>y         </td><td>n         </td><td>n         </td><td>y         </td><td>n         </td><td>y         </td><td>n         </td><td>y         </td><td>y         </td></tr>\n",
       "\t<tr><th scope=row>398</th><td>democrat  </td><td>y         </td><td>y         </td><td>n         </td><td>n         </td><td>y         </td><td>?         </td><td>n         </td><td>n         </td><td>n         </td><td>n         </td><td>y         </td><td>n         </td><td>y         </td><td>y         </td><td>n         </td><td>y         </td></tr>\n",
       "\t<tr><th scope=row>399</th><td>democrat  </td><td>n         </td><td>y         </td><td>y         </td><td>n         </td><td>y         </td><td>y         </td><td>n         </td><td>y         </td><td>n         </td><td>n         </td><td>n         </td><td>n         </td><td>n         </td><td>n         </td><td>n         </td><td>y         </td></tr>\n",
       "\t<tr><th scope=row>402</th><td>republican</td><td>n         </td><td>y         </td><td>n         </td><td>y         </td><td>y         </td><td>y         </td><td>n         </td><td>n         </td><td>n         </td><td>y         </td><td>y         </td><td>y         </td><td>y         </td><td>y         </td><td>n         </td><td>n         </td></tr>\n",
       "\t<tr><th scope=row>404</th><td>republican</td><td>n         </td><td>y         </td><td>n         </td><td>y         </td><td>y         </td><td>y         </td><td>n         </td><td>n         </td><td>n         </td><td>y         </td><td>n         </td><td>y         </td><td>?         </td><td>y         </td><td>n         </td><td>n         </td></tr>\n",
       "\t<tr><th scope=row>407</th><td>democrat  </td><td>y         </td><td>n         </td><td>y         </td><td>n         </td><td>y         </td><td>y         </td><td>n         </td><td>n         </td><td>y         </td><td>y         </td><td>n         </td><td>n         </td><td>y         </td><td>y         </td><td>n         </td><td>y         </td></tr>\n",
       "\t<tr><th scope=row>408</th><td>democrat  </td><td>n         </td><td>n         </td><td>n         </td><td>y         </td><td>y         </td><td>y         </td><td>n         </td><td>n         </td><td>n         </td><td>n         </td><td>y         </td><td>y         </td><td>y         </td><td>y         </td><td>n         </td><td>n         </td></tr>\n",
       "\t<tr><th scope=row>410</th><td>republican</td><td>n         </td><td>n         </td><td>n         </td><td>y         </td><td>y         </td><td>y         </td><td>n         </td><td>n         </td><td>n         </td><td>n         </td><td>n         </td><td>y         </td><td>y         </td><td>y         </td><td>n         </td><td>n         </td></tr>\n",
       "\t<tr><th scope=row>413</th><td>republican</td><td>n         </td><td>n         </td><td>n         </td><td>y         </td><td>y         </td><td>y         </td><td>n         </td><td>n         </td><td>n         </td><td>y         </td><td>n         </td><td>y         </td><td>y         </td><td>y         </td><td>n         </td><td>y         </td></tr>\n",
       "\t<tr><th scope=row>415</th><td>democrat  </td><td>y         </td><td>y         </td><td>y         </td><td>n         </td><td>n         </td><td>n         </td><td>y         </td><td>y         </td><td>y         </td><td>n         </td><td>n         </td><td>n         </td><td>n         </td><td>n         </td><td>n         </td><td>y         </td></tr>\n",
       "\t<tr><th scope=row>416</th><td>democrat  </td><td>n         </td><td>y         </td><td>y         </td><td>n         </td><td>n         </td><td>y         </td><td>y         </td><td>y         </td><td>?         </td><td>y         </td><td>n         </td><td>n         </td><td>n         </td><td>n         </td><td>n         </td><td>y         </td></tr>\n",
       "\t<tr><th scope=row>417</th><td>republican</td><td>y         </td><td>y         </td><td>n         </td><td>y         </td><td>y         </td><td>y         </td><td>n         </td><td>n         </td><td>n         </td><td>y         </td><td>n         </td><td>n         </td><td>y         </td><td>y         </td><td>n         </td><td>y         </td></tr>\n",
       "\t<tr><th scope=row>419</th><td>democrat  </td><td>y         </td><td>y         </td><td>y         </td><td>n         </td><td>n         </td><td>n         </td><td>y         </td><td>y         </td><td>n         </td><td>y         </td><td>n         </td><td>n         </td><td>n         </td><td>n         </td><td>n         </td><td>y         </td></tr>\n",
       "\t<tr><th scope=row>420</th><td>democrat  </td><td>y         </td><td>y         </td><td>y         </td><td>n         </td><td>n         </td><td>n         </td><td>y         </td><td>y         </td><td>y         </td><td>n         </td><td>n         </td><td>n         </td><td>n         </td><td>n         </td><td>n         </td><td>y         </td></tr>\n",
       "\t<tr><th scope=row>421</th><td>republican</td><td>y         </td><td>y         </td><td>y         </td><td>y         </td><td>y         </td><td>y         </td><td>y         </td><td>y         </td><td>n         </td><td>y         </td><td>n         </td><td>n         </td><td>y         </td><td>y         </td><td>n         </td><td>y         </td></tr>\n",
       "\t<tr><th scope=row>423</th><td>democrat  </td><td>n         </td><td>n         </td><td>y         </td><td>n         </td><td>n         </td><td>y         </td><td>y         </td><td>y         </td><td>y         </td><td>n         </td><td>y         </td><td>n         </td><td>n         </td><td>n         </td><td>y         </td><td>y         </td></tr>\n",
       "\t<tr><th scope=row>424</th><td>democrat  </td><td>n         </td><td>y         </td><td>y         </td><td>n         </td><td>n         </td><td>y         </td><td>y         </td><td>y         </td><td>y         </td><td>n         </td><td>y         </td><td>n         </td><td>n         </td><td>y         </td><td>y         </td><td>y         </td></tr>\n",
       "\t<tr><th scope=row>425</th><td>democrat  </td><td>n         </td><td>y         </td><td>y         </td><td>n         </td><td>n         </td><td>?         </td><td>y         </td><td>y         </td><td>y         </td><td>y         </td><td>y         </td><td>n         </td><td>?         </td><td>y         </td><td>y         </td><td>y         </td></tr>\n",
       "\t<tr><th scope=row>426</th><td>democrat  </td><td>n         </td><td>n         </td><td>y         </td><td>n         </td><td>n         </td><td>n         </td><td>y         </td><td>y         </td><td>n         </td><td>y         </td><td>y         </td><td>n         </td><td>n         </td><td>n         </td><td>y         </td><td>?         </td></tr>\n",
       "\t<tr><th scope=row>429</th><td>democrat  </td><td>?         </td><td>?         </td><td>?         </td><td>n         </td><td>n         </td><td>n         </td><td>y         </td><td>y         </td><td>y         </td><td>y         </td><td>n         </td><td>n         </td><td>y         </td><td>n         </td><td>y         </td><td>y         </td></tr>\n",
       "\t<tr><th scope=row>430</th><td>democrat  </td><td>y         </td><td>n         </td><td>y         </td><td>n         </td><td>?         </td><td>n         </td><td>y         </td><td>y         </td><td>y         </td><td>y         </td><td>n         </td><td>y         </td><td>n         </td><td>?         </td><td>y         </td><td>y         </td></tr>\n",
       "\t<tr><th scope=row>431</th><td>republican</td><td>n         </td><td>n         </td><td>y         </td><td>y         </td><td>y         </td><td>y         </td><td>n         </td><td>n         </td><td>y         </td><td>y         </td><td>n         </td><td>y         </td><td>y         </td><td>y         </td><td>n         </td><td>y         </td></tr>\n",
       "\t<tr><th scope=row>432</th><td>democrat  </td><td>n         </td><td>n         </td><td>y         </td><td>n         </td><td>n         </td><td>n         </td><td>y         </td><td>y         </td><td>y         </td><td>y         </td><td>n         </td><td>n         </td><td>n         </td><td>n         </td><td>n         </td><td>y         </td></tr>\n",
       "\t<tr><th scope=row>433</th><td>republican</td><td>n         </td><td>?         </td><td>n         </td><td>y         </td><td>y         </td><td>y         </td><td>n         </td><td>n         </td><td>n         </td><td>n         </td><td>y         </td><td>y         </td><td>y         </td><td>y         </td><td>n         </td><td>y         </td></tr>\n",
       "\t<tr><th scope=row>434</th><td>republican</td><td>n         </td><td>n         </td><td>n         </td><td>y         </td><td>y         </td><td>y         </td><td>?         </td><td>?         </td><td>?         </td><td>?         </td><td>n         </td><td>y         </td><td>y         </td><td>y         </td><td>n         </td><td>y         </td></tr>\n",
       "</tbody>\n",
       "</table>\n"
      ],
      "text/latex": [
       "\\begin{tabular}{r|lllllllllllllllll}\n",
       "  & V1 & V2 & V3 & V4 & V5 & V6 & V7 & V8 & V9 & V10 & V11 & V12 & V13 & V14 & V15 & V16 & V17\\\\\n",
       "\\hline\n",
       "\t1 & republican & n          & y          & n          & y          & y          & y          & n          & n          & n          & y          & ?          & y          & y          & y          & n          & y         \\\\\n",
       "\t2 & republican & n          & y          & n          & y          & y          & y          & n          & n          & n          & n          & n          & y          & y          & y          & n          & ?         \\\\\n",
       "\t4 & democrat   & n          & y          & y          & n          & ?          & y          & n          & n          & n          & n          & y          & n          & y          & n          & n          & y         \\\\\n",
       "\t5 & democrat   & y          & y          & y          & n          & y          & y          & n          & n          & n          & n          & y          & ?          & y          & y          & y          & y         \\\\\n",
       "\t7 & democrat   & n          & y          & n          & y          & y          & y          & n          & n          & n          & n          & n          & n          & ?          & y          & y          & y         \\\\\n",
       "\t8 & republican & n          & y          & n          & y          & y          & y          & n          & n          & n          & n          & n          & n          & y          & y          & ?          & y         \\\\\n",
       "\t9 & republican & n          & y          & n          & y          & y          & y          & n          & n          & n          & n          & n          & y          & y          & y          & n          & y         \\\\\n",
       "\t11 & republican & n          & y          & n          & y          & y          & n          & n          & n          & n          & n          & ?          & ?          & y          & y          & n          & n         \\\\\n",
       "\t12 & republican & n          & y          & n          & y          & y          & y          & n          & n          & n          & n          & y          & ?          & y          & y          & ?          & ?         \\\\\n",
       "\t13 & democrat   & n          & y          & y          & n          & n          & n          & y          & y          & y          & n          & n          & n          & y          & n          & ?          & ?         \\\\\n",
       "\t14 & democrat   & y          & y          & y          & n          & n          & y          & y          & y          & ?          & y          & y          & ?          & n          & n          & y          & ?         \\\\\n",
       "\t15 & republican & n          & y          & n          & y          & y          & y          & n          & n          & n          & n          & n          & y          & ?          & ?          & n          & ?         \\\\\n",
       "\t16 & republican & n          & y          & n          & y          & y          & y          & n          & n          & n          & y          & n          & y          & y          & ?          & n          & ?         \\\\\n",
       "\t17 & democrat   & y          & n          & y          & n          & n          & y          & n          & y          & ?          & y          & y          & y          & ?          & n          & n          & y         \\\\\n",
       "\t18 & democrat   & y          & ?          & y          & n          & n          & n          & y          & y          & y          & n          & n          & n          & y          & n          & y          & y         \\\\\n",
       "\t20 & democrat   & y          & y          & y          & n          & n          & n          & y          & y          & y          & n          & y          & n          & n          & n          & y          & y         \\\\\n",
       "\t21 & democrat   & y          & y          & y          & n          & n          & ?          & y          & y          & n          & n          & y          & n          & n          & n          & y          & y         \\\\\n",
       "\t22 & democrat   & y          & y          & y          & n          & n          & n          & y          & y          & y          & n          & n          & n          & ?          & ?          & y          & y         \\\\\n",
       "\t23 & democrat   & y          & ?          & y          & n          & n          & n          & y          & y          & y          & n          & n          & ?          & n          & n          & y          & y         \\\\\n",
       "\t24 & democrat   & y          & y          & y          & n          & n          & n          & y          & y          & y          & n          & n          & n          & n          & n          & y          & y         \\\\\n",
       "\t25 & democrat   & y          & n          & y          & n          & n          & n          & y          & y          & y          & n          & n          & n          & n          & n          & y          & ?         \\\\\n",
       "\t26 & democrat   & y          & n          & y          & n          & n          & n          & y          & y          & y          & y          & n          & n          & n          & n          & y          & y         \\\\\n",
       "\t28 & democrat   & y          & y          & y          & n          & n          & n          & y          & y          & y          & n          & y          & n          & n          & n          & y          & y         \\\\\n",
       "\t29 & republican & y          & n          & n          & y          & y          & n          & y          & y          & y          & n          & n          & y          & y          & y          & n          & y         \\\\\n",
       "\t30 & democrat   & y          & y          & y          & n          & n          & n          & y          & y          & y          & n          & y          & n          & n          & n          & y          & y         \\\\\n",
       "\t31 & republican & n          & y          & n          & y          & y          & y          & n          & n          & n          & n          & n          & y          & y          & y          & n          & n         \\\\\n",
       "\t32 & democrat   & y          & y          & y          & n          & n          & n          & y          & y          & y          & n          & y          & n          & n          & n          & y          & ?         \\\\\n",
       "\t33 & democrat   & y          & y          & y          & n          & n          & n          & y          & y          & y          & y          & n          & n          & y          & n          & y          & y         \\\\\n",
       "\t34 & republican & n          & y          & n          & y          & y          & y          & n          & n          & n          & n          & n          & y          & y          & y          & n          & y         \\\\\n",
       "\t35 & democrat   & y          & y          & y          & n          & n          & n          & y          & y          & y          & n          & n          & n          & n          & n          & y          & y         \\\\\n",
       "\t... & ... & ... & ... & ... & ... & ... & ... & ... & ... & ... & ... & ... & ... & ... & ... & ... & ...\\\\\n",
       "\t390 & democrat   & y          & n          & y          & n          & n          & n          & y          & y          & y          & ?          & y          & n          & n          & n          & y          & ?         \\\\\n",
       "\t392 & democrat   & y          & y          & n          & n          & n          & n          & n          & y          & y          & n          & y          & n          & n          & n          & y          & n         \\\\\n",
       "\t394 & republican & ?          & ?          & ?          & ?          & n          & y          & n          & y          & y          & n          & n          & y          & y          & n          & n          & ?         \\\\\n",
       "\t395 & democrat   & y          & y          & ?          & ?          & ?          & y          & n          & n          & n          & n          & y          & n          & y          & n          & n          & y         \\\\\n",
       "\t396 & democrat   & y          & y          & y          & ?          & n          & n          & n          & y          & n          & n          & y          & ?          & n          & n          & y          & y         \\\\\n",
       "\t397 & democrat   & y          & y          & y          & n          & y          & y          & n          & y          & n          & n          & y          & n          & y          & n          & y          & y         \\\\\n",
       "\t398 & democrat   & y          & y          & n          & n          & y          & ?          & n          & n          & n          & n          & y          & n          & y          & y          & n          & y         \\\\\n",
       "\t399 & democrat   & n          & y          & y          & n          & y          & y          & n          & y          & n          & n          & n          & n          & n          & n          & n          & y         \\\\\n",
       "\t402 & republican & n          & y          & n          & y          & y          & y          & n          & n          & n          & y          & y          & y          & y          & y          & n          & n         \\\\\n",
       "\t404 & republican & n          & y          & n          & y          & y          & y          & n          & n          & n          & y          & n          & y          & ?          & y          & n          & n         \\\\\n",
       "\t407 & democrat   & y          & n          & y          & n          & y          & y          & n          & n          & y          & y          & n          & n          & y          & y          & n          & y         \\\\\n",
       "\t408 & democrat   & n          & n          & n          & y          & y          & y          & n          & n          & n          & n          & y          & y          & y          & y          & n          & n         \\\\\n",
       "\t410 & republican & n          & n          & n          & y          & y          & y          & n          & n          & n          & n          & n          & y          & y          & y          & n          & n         \\\\\n",
       "\t413 & republican & n          & n          & n          & y          & y          & y          & n          & n          & n          & y          & n          & y          & y          & y          & n          & y         \\\\\n",
       "\t415 & democrat   & y          & y          & y          & n          & n          & n          & y          & y          & y          & n          & n          & n          & n          & n          & n          & y         \\\\\n",
       "\t416 & democrat   & n          & y          & y          & n          & n          & y          & y          & y          & ?          & y          & n          & n          & n          & n          & n          & y         \\\\\n",
       "\t417 & republican & y          & y          & n          & y          & y          & y          & n          & n          & n          & y          & n          & n          & y          & y          & n          & y         \\\\\n",
       "\t419 & democrat   & y          & y          & y          & n          & n          & n          & y          & y          & n          & y          & n          & n          & n          & n          & n          & y         \\\\\n",
       "\t420 & democrat   & y          & y          & y          & n          & n          & n          & y          & y          & y          & n          & n          & n          & n          & n          & n          & y         \\\\\n",
       "\t421 & republican & y          & y          & y          & y          & y          & y          & y          & y          & n          & y          & n          & n          & y          & y          & n          & y         \\\\\n",
       "\t423 & democrat   & n          & n          & y          & n          & n          & y          & y          & y          & y          & n          & y          & n          & n          & n          & y          & y         \\\\\n",
       "\t424 & democrat   & n          & y          & y          & n          & n          & y          & y          & y          & y          & n          & y          & n          & n          & y          & y          & y         \\\\\n",
       "\t425 & democrat   & n          & y          & y          & n          & n          & ?          & y          & y          & y          & y          & y          & n          & ?          & y          & y          & y         \\\\\n",
       "\t426 & democrat   & n          & n          & y          & n          & n          & n          & y          & y          & n          & y          & y          & n          & n          & n          & y          & ?         \\\\\n",
       "\t429 & democrat   & ?          & ?          & ?          & n          & n          & n          & y          & y          & y          & y          & n          & n          & y          & n          & y          & y         \\\\\n",
       "\t430 & democrat   & y          & n          & y          & n          & ?          & n          & y          & y          & y          & y          & n          & y          & n          & ?          & y          & y         \\\\\n",
       "\t431 & republican & n          & n          & y          & y          & y          & y          & n          & n          & y          & y          & n          & y          & y          & y          & n          & y         \\\\\n",
       "\t432 & democrat   & n          & n          & y          & n          & n          & n          & y          & y          & y          & y          & n          & n          & n          & n          & n          & y         \\\\\n",
       "\t433 & republican & n          & ?          & n          & y          & y          & y          & n          & n          & n          & n          & y          & y          & y          & y          & n          & y         \\\\\n",
       "\t434 & republican & n          & n          & n          & y          & y          & y          & ?          & ?          & ?          & ?          & n          & y          & y          & y          & n          & y         \\\\\n",
       "\\end{tabular}\n"
      ],
      "text/markdown": [
       "\n",
       "| <!--/--> | V1 | V2 | V3 | V4 | V5 | V6 | V7 | V8 | V9 | V10 | V11 | V12 | V13 | V14 | V15 | V16 | V17 | \n",
       "|---|---|---|---|---|---|---|---|---|---|---|---|---|---|---|---|---|---|---|---|---|---|---|---|---|---|---|---|---|---|---|---|---|---|---|---|---|---|---|---|---|---|---|---|---|---|---|---|---|---|---|---|---|---|---|---|---|---|---|---|---|\n",
       "| 1 | republican | n          | y          | n          | y          | y          | y          | n          | n          | n          | y          | ?          | y          | y          | y          | n          | y          | \n",
       "| 2 | republican | n          | y          | n          | y          | y          | y          | n          | n          | n          | n          | n          | y          | y          | y          | n          | ?          | \n",
       "| 4 | democrat   | n          | y          | y          | n          | ?          | y          | n          | n          | n          | n          | y          | n          | y          | n          | n          | y          | \n",
       "| 5 | democrat   | y          | y          | y          | n          | y          | y          | n          | n          | n          | n          | y          | ?          | y          | y          | y          | y          | \n",
       "| 7 | democrat   | n          | y          | n          | y          | y          | y          | n          | n          | n          | n          | n          | n          | ?          | y          | y          | y          | \n",
       "| 8 | republican | n          | y          | n          | y          | y          | y          | n          | n          | n          | n          | n          | n          | y          | y          | ?          | y          | \n",
       "| 9 | republican | n          | y          | n          | y          | y          | y          | n          | n          | n          | n          | n          | y          | y          | y          | n          | y          | \n",
       "| 11 | republican | n          | y          | n          | y          | y          | n          | n          | n          | n          | n          | ?          | ?          | y          | y          | n          | n          | \n",
       "| 12 | republican | n          | y          | n          | y          | y          | y          | n          | n          | n          | n          | y          | ?          | y          | y          | ?          | ?          | \n",
       "| 13 | democrat   | n          | y          | y          | n          | n          | n          | y          | y          | y          | n          | n          | n          | y          | n          | ?          | ?          | \n",
       "| 14 | democrat   | y          | y          | y          | n          | n          | y          | y          | y          | ?          | y          | y          | ?          | n          | n          | y          | ?          | \n",
       "| 15 | republican | n          | y          | n          | y          | y          | y          | n          | n          | n          | n          | n          | y          | ?          | ?          | n          | ?          | \n",
       "| 16 | republican | n          | y          | n          | y          | y          | y          | n          | n          | n          | y          | n          | y          | y          | ?          | n          | ?          | \n",
       "| 17 | democrat   | y          | n          | y          | n          | n          | y          | n          | y          | ?          | y          | y          | y          | ?          | n          | n          | y          | \n",
       "| 18 | democrat   | y          | ?          | y          | n          | n          | n          | y          | y          | y          | n          | n          | n          | y          | n          | y          | y          | \n",
       "| 20 | democrat   | y          | y          | y          | n          | n          | n          | y          | y          | y          | n          | y          | n          | n          | n          | y          | y          | \n",
       "| 21 | democrat   | y          | y          | y          | n          | n          | ?          | y          | y          | n          | n          | y          | n          | n          | n          | y          | y          | \n",
       "| 22 | democrat   | y          | y          | y          | n          | n          | n          | y          | y          | y          | n          | n          | n          | ?          | ?          | y          | y          | \n",
       "| 23 | democrat   | y          | ?          | y          | n          | n          | n          | y          | y          | y          | n          | n          | ?          | n          | n          | y          | y          | \n",
       "| 24 | democrat   | y          | y          | y          | n          | n          | n          | y          | y          | y          | n          | n          | n          | n          | n          | y          | y          | \n",
       "| 25 | democrat   | y          | n          | y          | n          | n          | n          | y          | y          | y          | n          | n          | n          | n          | n          | y          | ?          | \n",
       "| 26 | democrat   | y          | n          | y          | n          | n          | n          | y          | y          | y          | y          | n          | n          | n          | n          | y          | y          | \n",
       "| 28 | democrat   | y          | y          | y          | n          | n          | n          | y          | y          | y          | n          | y          | n          | n          | n          | y          | y          | \n",
       "| 29 | republican | y          | n          | n          | y          | y          | n          | y          | y          | y          | n          | n          | y          | y          | y          | n          | y          | \n",
       "| 30 | democrat   | y          | y          | y          | n          | n          | n          | y          | y          | y          | n          | y          | n          | n          | n          | y          | y          | \n",
       "| 31 | republican | n          | y          | n          | y          | y          | y          | n          | n          | n          | n          | n          | y          | y          | y          | n          | n          | \n",
       "| 32 | democrat   | y          | y          | y          | n          | n          | n          | y          | y          | y          | n          | y          | n          | n          | n          | y          | ?          | \n",
       "| 33 | democrat   | y          | y          | y          | n          | n          | n          | y          | y          | y          | y          | n          | n          | y          | n          | y          | y          | \n",
       "| 34 | republican | n          | y          | n          | y          | y          | y          | n          | n          | n          | n          | n          | y          | y          | y          | n          | y          | \n",
       "| 35 | democrat   | y          | y          | y          | n          | n          | n          | y          | y          | y          | n          | n          | n          | n          | n          | y          | y          | \n",
       "| ... | ... | ... | ... | ... | ... | ... | ... | ... | ... | ... | ... | ... | ... | ... | ... | ... | ... | \n",
       "| 390 | democrat   | y          | n          | y          | n          | n          | n          | y          | y          | y          | ?          | y          | n          | n          | n          | y          | ?          | \n",
       "| 392 | democrat   | y          | y          | n          | n          | n          | n          | n          | y          | y          | n          | y          | n          | n          | n          | y          | n          | \n",
       "| 394 | republican | ?          | ?          | ?          | ?          | n          | y          | n          | y          | y          | n          | n          | y          | y          | n          | n          | ?          | \n",
       "| 395 | democrat   | y          | y          | ?          | ?          | ?          | y          | n          | n          | n          | n          | y          | n          | y          | n          | n          | y          | \n",
       "| 396 | democrat   | y          | y          | y          | ?          | n          | n          | n          | y          | n          | n          | y          | ?          | n          | n          | y          | y          | \n",
       "| 397 | democrat   | y          | y          | y          | n          | y          | y          | n          | y          | n          | n          | y          | n          | y          | n          | y          | y          | \n",
       "| 398 | democrat   | y          | y          | n          | n          | y          | ?          | n          | n          | n          | n          | y          | n          | y          | y          | n          | y          | \n",
       "| 399 | democrat   | n          | y          | y          | n          | y          | y          | n          | y          | n          | n          | n          | n          | n          | n          | n          | y          | \n",
       "| 402 | republican | n          | y          | n          | y          | y          | y          | n          | n          | n          | y          | y          | y          | y          | y          | n          | n          | \n",
       "| 404 | republican | n          | y          | n          | y          | y          | y          | n          | n          | n          | y          | n          | y          | ?          | y          | n          | n          | \n",
       "| 407 | democrat   | y          | n          | y          | n          | y          | y          | n          | n          | y          | y          | n          | n          | y          | y          | n          | y          | \n",
       "| 408 | democrat   | n          | n          | n          | y          | y          | y          | n          | n          | n          | n          | y          | y          | y          | y          | n          | n          | \n",
       "| 410 | republican | n          | n          | n          | y          | y          | y          | n          | n          | n          | n          | n          | y          | y          | y          | n          | n          | \n",
       "| 413 | republican | n          | n          | n          | y          | y          | y          | n          | n          | n          | y          | n          | y          | y          | y          | n          | y          | \n",
       "| 415 | democrat   | y          | y          | y          | n          | n          | n          | y          | y          | y          | n          | n          | n          | n          | n          | n          | y          | \n",
       "| 416 | democrat   | n          | y          | y          | n          | n          | y          | y          | y          | ?          | y          | n          | n          | n          | n          | n          | y          | \n",
       "| 417 | republican | y          | y          | n          | y          | y          | y          | n          | n          | n          | y          | n          | n          | y          | y          | n          | y          | \n",
       "| 419 | democrat   | y          | y          | y          | n          | n          | n          | y          | y          | n          | y          | n          | n          | n          | n          | n          | y          | \n",
       "| 420 | democrat   | y          | y          | y          | n          | n          | n          | y          | y          | y          | n          | n          | n          | n          | n          | n          | y          | \n",
       "| 421 | republican | y          | y          | y          | y          | y          | y          | y          | y          | n          | y          | n          | n          | y          | y          | n          | y          | \n",
       "| 423 | democrat   | n          | n          | y          | n          | n          | y          | y          | y          | y          | n          | y          | n          | n          | n          | y          | y          | \n",
       "| 424 | democrat   | n          | y          | y          | n          | n          | y          | y          | y          | y          | n          | y          | n          | n          | y          | y          | y          | \n",
       "| 425 | democrat   | n          | y          | y          | n          | n          | ?          | y          | y          | y          | y          | y          | n          | ?          | y          | y          | y          | \n",
       "| 426 | democrat   | n          | n          | y          | n          | n          | n          | y          | y          | n          | y          | y          | n          | n          | n          | y          | ?          | \n",
       "| 429 | democrat   | ?          | ?          | ?          | n          | n          | n          | y          | y          | y          | y          | n          | n          | y          | n          | y          | y          | \n",
       "| 430 | democrat   | y          | n          | y          | n          | ?          | n          | y          | y          | y          | y          | n          | y          | n          | ?          | y          | y          | \n",
       "| 431 | republican | n          | n          | y          | y          | y          | y          | n          | n          | y          | y          | n          | y          | y          | y          | n          | y          | \n",
       "| 432 | democrat   | n          | n          | y          | n          | n          | n          | y          | y          | y          | y          | n          | n          | n          | n          | n          | y          | \n",
       "| 433 | republican | n          | ?          | n          | y          | y          | y          | n          | n          | n          | n          | y          | y          | y          | y          | n          | y          | \n",
       "| 434 | republican | n          | n          | n          | y          | y          | y          | ?          | ?          | ?          | ?          | n          | y          | y          | y          | n          | y          | \n",
       "\n",
       "\n"
      ],
      "text/plain": [
       "    V1         V2  V3  V4  V5  V6  V7  V8  V9  V10 V11 V12 V13 V14 V15 V16 V17\n",
       "1   republican n   y   n   y   y   y   n   n   n   y   ?   y   y   y   n   y  \n",
       "2   republican n   y   n   y   y   y   n   n   n   n   n   y   y   y   n   ?  \n",
       "4   democrat   n   y   y   n   ?   y   n   n   n   n   y   n   y   n   n   y  \n",
       "5   democrat   y   y   y   n   y   y   n   n   n   n   y   ?   y   y   y   y  \n",
       "7   democrat   n   y   n   y   y   y   n   n   n   n   n   n   ?   y   y   y  \n",
       "8   republican n   y   n   y   y   y   n   n   n   n   n   n   y   y   ?   y  \n",
       "9   republican n   y   n   y   y   y   n   n   n   n   n   y   y   y   n   y  \n",
       "11  republican n   y   n   y   y   n   n   n   n   n   ?   ?   y   y   n   n  \n",
       "12  republican n   y   n   y   y   y   n   n   n   n   y   ?   y   y   ?   ?  \n",
       "13  democrat   n   y   y   n   n   n   y   y   y   n   n   n   y   n   ?   ?  \n",
       "14  democrat   y   y   y   n   n   y   y   y   ?   y   y   ?   n   n   y   ?  \n",
       "15  republican n   y   n   y   y   y   n   n   n   n   n   y   ?   ?   n   ?  \n",
       "16  republican n   y   n   y   y   y   n   n   n   y   n   y   y   ?   n   ?  \n",
       "17  democrat   y   n   y   n   n   y   n   y   ?   y   y   y   ?   n   n   y  \n",
       "18  democrat   y   ?   y   n   n   n   y   y   y   n   n   n   y   n   y   y  \n",
       "20  democrat   y   y   y   n   n   n   y   y   y   n   y   n   n   n   y   y  \n",
       "21  democrat   y   y   y   n   n   ?   y   y   n   n   y   n   n   n   y   y  \n",
       "22  democrat   y   y   y   n   n   n   y   y   y   n   n   n   ?   ?   y   y  \n",
       "23  democrat   y   ?   y   n   n   n   y   y   y   n   n   ?   n   n   y   y  \n",
       "24  democrat   y   y   y   n   n   n   y   y   y   n   n   n   n   n   y   y  \n",
       "25  democrat   y   n   y   n   n   n   y   y   y   n   n   n   n   n   y   ?  \n",
       "26  democrat   y   n   y   n   n   n   y   y   y   y   n   n   n   n   y   y  \n",
       "28  democrat   y   y   y   n   n   n   y   y   y   n   y   n   n   n   y   y  \n",
       "29  republican y   n   n   y   y   n   y   y   y   n   n   y   y   y   n   y  \n",
       "30  democrat   y   y   y   n   n   n   y   y   y   n   y   n   n   n   y   y  \n",
       "31  republican n   y   n   y   y   y   n   n   n   n   n   y   y   y   n   n  \n",
       "32  democrat   y   y   y   n   n   n   y   y   y   n   y   n   n   n   y   ?  \n",
       "33  democrat   y   y   y   n   n   n   y   y   y   y   n   n   y   n   y   y  \n",
       "34  republican n   y   n   y   y   y   n   n   n   n   n   y   y   y   n   y  \n",
       "35  democrat   y   y   y   n   n   n   y   y   y   n   n   n   n   n   y   y  \n",
       "... ...        ... ... ... ... ... ... ... ... ... ... ... ... ... ... ... ...\n",
       "390 democrat   y   n   y   n   n   n   y   y   y   ?   y   n   n   n   y   ?  \n",
       "392 democrat   y   y   n   n   n   n   n   y   y   n   y   n   n   n   y   n  \n",
       "394 republican ?   ?   ?   ?   n   y   n   y   y   n   n   y   y   n   n   ?  \n",
       "395 democrat   y   y   ?   ?   ?   y   n   n   n   n   y   n   y   n   n   y  \n",
       "396 democrat   y   y   y   ?   n   n   n   y   n   n   y   ?   n   n   y   y  \n",
       "397 democrat   y   y   y   n   y   y   n   y   n   n   y   n   y   n   y   y  \n",
       "398 democrat   y   y   n   n   y   ?   n   n   n   n   y   n   y   y   n   y  \n",
       "399 democrat   n   y   y   n   y   y   n   y   n   n   n   n   n   n   n   y  \n",
       "402 republican n   y   n   y   y   y   n   n   n   y   y   y   y   y   n   n  \n",
       "404 republican n   y   n   y   y   y   n   n   n   y   n   y   ?   y   n   n  \n",
       "407 democrat   y   n   y   n   y   y   n   n   y   y   n   n   y   y   n   y  \n",
       "408 democrat   n   n   n   y   y   y   n   n   n   n   y   y   y   y   n   n  \n",
       "410 republican n   n   n   y   y   y   n   n   n   n   n   y   y   y   n   n  \n",
       "413 republican n   n   n   y   y   y   n   n   n   y   n   y   y   y   n   y  \n",
       "415 democrat   y   y   y   n   n   n   y   y   y   n   n   n   n   n   n   y  \n",
       "416 democrat   n   y   y   n   n   y   y   y   ?   y   n   n   n   n   n   y  \n",
       "417 republican y   y   n   y   y   y   n   n   n   y   n   n   y   y   n   y  \n",
       "419 democrat   y   y   y   n   n   n   y   y   n   y   n   n   n   n   n   y  \n",
       "420 democrat   y   y   y   n   n   n   y   y   y   n   n   n   n   n   n   y  \n",
       "421 republican y   y   y   y   y   y   y   y   n   y   n   n   y   y   n   y  \n",
       "423 democrat   n   n   y   n   n   y   y   y   y   n   y   n   n   n   y   y  \n",
       "424 democrat   n   y   y   n   n   y   y   y   y   n   y   n   n   y   y   y  \n",
       "425 democrat   n   y   y   n   n   ?   y   y   y   y   y   n   ?   y   y   y  \n",
       "426 democrat   n   n   y   n   n   n   y   y   n   y   y   n   n   n   y   ?  \n",
       "429 democrat   ?   ?   ?   n   n   n   y   y   y   y   n   n   y   n   y   y  \n",
       "430 democrat   y   n   y   n   ?   n   y   y   y   y   n   y   n   ?   y   y  \n",
       "431 republican n   n   y   y   y   y   n   n   y   y   n   y   y   y   n   y  \n",
       "432 democrat   n   n   y   n   n   n   y   y   y   y   n   n   n   n   n   y  \n",
       "433 republican n   ?   n   y   y   y   n   n   n   n   y   y   y   y   n   y  \n",
       "434 republican n   n   n   y   y   y   ?   ?   ?   ?   n   y   y   y   n   y  "
      ]
     },
     "metadata": {},
     "output_type": "display_data"
    }
   ],
   "source": [
    "X[-test,]"
   ]
  },
  {
   "cell_type": "markdown",
   "metadata": {},
   "source": [
    "We use the rest of the model data to test our model;consequently, it is assigned to testdata \n",
    "variable. "
   ]
  },
  {
   "cell_type": "code",
   "execution_count": 106,
   "metadata": {
    "collapsed": false
   },
   "outputs": [
    {
     "data": {
      "text/html": [
       "305"
      ],
      "text/latex": [
       "305"
      ],
      "text/markdown": [
       "305"
      ],
      "text/plain": [
       "[1] 305"
      ]
     },
     "metadata": {},
     "output_type": "display_data"
    }
   ],
   "source": [
    "testdata<-X[-test,]\n",
    "nrow(testdata)"
   ]
  },
  {
   "cell_type": "markdown",
   "metadata": {},
   "source": [
    "Logistic regression model is formed by using glm function in R language. The meaning of glm is fitting  generalized linear models."
   ]
  },
  {
   "cell_type": "code",
   "execution_count": 82,
   "metadata": {
    "collapsed": false
   },
   "outputs": [
    {
     "name": "stderr",
     "output_type": "stream",
     "text": [
      "Warning message:\n",
      "\"glm.fit: fitted probabilities numerically 0 or 1 occurred\""
     ]
    },
    {
     "data": {
      "text/plain": [
       "\n",
       "Call:  glm(formula = V1 ~ V4 + V7 + V9 + V12 + V15 + V17, family = binomial(link = \"logit\"), \n",
       "    data = modeldata)\n",
       "\n",
       "Coefficients:\n",
       "(Intercept)          V4n          V4y          V7n          V7y          V9n  \n",
       "     1.4788      20.6449      18.0192      -1.2764       0.1679     -36.9222  \n",
       "        V9y         V12n         V12y         V15n         V15y         V17n  \n",
       "   -37.7751      -0.4491      -2.5876      -1.8398      16.8952       0.2081  \n",
       "       V17y  \n",
       "     1.3671  \n",
       "\n",
       "Degrees of Freedom: 129 Total (i.e. Null);  117 Residual\n",
       "Null Deviance:\t    174.1 \n",
       "Residual Deviance: 58.02 \tAIC: 84.02"
      ]
     },
     "metadata": {},
     "output_type": "display_data"
    }
   ],
   "source": [
    "logitmodel<- glm(V1 ~ V4+V7+V9+V12+V15+V17, family=binomial(link=\"logit\"), data= modeldata)\n",
    "logitmodel"
   ]
  },
  {
   "cell_type": "markdown",
   "metadata": {},
   "source": [
    "After the model is generated, we use summary code to get a short information about the model \n",
    "that we generate."
   ]
  },
  {
   "cell_type": "code",
   "execution_count": 83,
   "metadata": {
    "collapsed": false
   },
   "outputs": [
    {
     "data": {
      "text/plain": [
       "\n",
       "Call:\n",
       "glm(formula = V1 ~ V4 + V7 + V9 + V12 + V15 + V17, family = binomial(link = \"logit\"), \n",
       "    data = modeldata)\n",
       "\n",
       "Deviance Residuals: \n",
       "     Min        1Q    Median        3Q       Max  \n",
       "-2.53898  -0.00007  -0.00003   0.39453   1.88076  \n",
       "\n",
       "Coefficients:\n",
       "              Estimate Std. Error z value Pr(>|z|)\n",
       "(Intercept)     1.4788 22106.5346   0.000    1.000\n",
       "V4n            20.6449  9546.5638   0.002    0.998\n",
       "V4y            18.0192  9546.5638   0.002    0.998\n",
       "V7n            -1.2764 17877.7056   0.000    1.000\n",
       "V7y             0.1679 17877.7055   0.000    1.000\n",
       "V9n           -36.9222 12828.0371  -0.003    0.998\n",
       "V9y           -37.7751 12828.0371  -0.003    0.998\n",
       "V12n           -0.4491     1.5932  -0.282    0.778\n",
       "V12y           -2.5876     1.7423  -1.485    0.137\n",
       "V15n           -1.8398  9584.1137   0.000    1.000\n",
       "V15y           16.8952  9306.3907   0.002    0.999\n",
       "V17n            0.2081     1.1858   0.175    0.861\n",
       "V17y            1.3671     1.0004   1.367    0.172\n",
       "\n",
       "(Dispersion parameter for binomial family taken to be 1)\n",
       "\n",
       "    Null deviance: 174.140  on 129  degrees of freedom\n",
       "Residual deviance:  58.022  on 117  degrees of freedom\n",
       "AIC: 84.022\n",
       "\n",
       "Number of Fisher Scoring iterations: 19\n"
      ]
     },
     "metadata": {},
     "output_type": "display_data"
    },
    {
     "name": "stderr",
     "output_type": "stream",
     "text": [
      "Warning message:\n",
      "\"glm.fit: fitted probabilities numerically 0 or 1 occurred\""
     ]
    },
    {
     "data": {
      "text/html": [
       "<table>\n",
       "<thead><tr><th></th><th scope=col>Df</th><th scope=col>Deviance</th><th scope=col>Resid. Df</th><th scope=col>Resid. Dev</th><th scope=col>Pr(&gt;Chi)</th></tr></thead>\n",
       "<tbody>\n",
       "\t<tr><th scope=row>NULL</th><td>NA          </td><td>       NA   </td><td>129         </td><td>174.13998   </td><td>          NA</td></tr>\n",
       "\t<tr><th scope=row>V4</th><td> 2          </td><td>76.260184   </td><td>127         </td><td> 97.87980   </td><td>2.756205e-17</td></tr>\n",
       "\t<tr><th scope=row>V7</th><td> 2          </td><td>11.134621   </td><td>125         </td><td> 86.74518   </td><td>3.820743e-03</td></tr>\n",
       "\t<tr><th scope=row>V9</th><td> 2          </td><td> 6.521919   </td><td>123         </td><td> 80.22326   </td><td>3.835157e-02</td></tr>\n",
       "\t<tr><th scope=row>V12</th><td> 2          </td><td>10.529084   </td><td>121         </td><td> 69.69417   </td><td>5.171760e-03</td></tr>\n",
       "\t<tr><th scope=row>V15</th><td> 2          </td><td> 8.786661   </td><td>119         </td><td> 60.90751   </td><td>1.235950e-02</td></tr>\n",
       "\t<tr><th scope=row>V17</th><td> 2          </td><td> 2.885198   </td><td>117         </td><td> 58.02231   </td><td>2.363128e-01</td></tr>\n",
       "</tbody>\n",
       "</table>\n"
      ],
      "text/latex": [
       "\\begin{tabular}{r|lllll}\n",
       "  & Df & Deviance & Resid. Df & Resid. Dev & Pr(>Chi)\\\\\n",
       "\\hline\n",
       "\tNULL & NA           &        NA    & 129          & 174.13998    &           NA\\\\\n",
       "\tV4 &  2           & 76.260184    & 127          &  97.87980    & 2.756205e-17\\\\\n",
       "\tV7 &  2           & 11.134621    & 125          &  86.74518    & 3.820743e-03\\\\\n",
       "\tV9 &  2           &  6.521919    & 123          &  80.22326    & 3.835157e-02\\\\\n",
       "\tV12 &  2           & 10.529084    & 121          &  69.69417    & 5.171760e-03\\\\\n",
       "\tV15 &  2           &  8.786661    & 119          &  60.90751    & 1.235950e-02\\\\\n",
       "\tV17 &  2           &  2.885198    & 117          &  58.02231    & 2.363128e-01\\\\\n",
       "\\end{tabular}\n"
      ],
      "text/markdown": [
       "\n",
       "| <!--/--> | Df | Deviance | Resid. Df | Resid. Dev | Pr(>Chi) | \n",
       "|---|---|---|---|---|---|---|\n",
       "| NULL | NA           |        NA    | 129          | 174.13998    |           NA | \n",
       "| V4 |  2           | 76.260184    | 127          |  97.87980    | 2.756205e-17 | \n",
       "| V7 |  2           | 11.134621    | 125          |  86.74518    | 3.820743e-03 | \n",
       "| V9 |  2           |  6.521919    | 123          |  80.22326    | 3.835157e-02 | \n",
       "| V12 |  2           | 10.529084    | 121          |  69.69417    | 5.171760e-03 | \n",
       "| V15 |  2           |  8.786661    | 119          |  60.90751    | 1.235950e-02 | \n",
       "| V17 |  2           |  2.885198    | 117          |  58.02231    | 2.363128e-01 | \n",
       "\n",
       "\n"
      ],
      "text/plain": [
       "     Df Deviance  Resid. Df Resid. Dev Pr(>Chi)    \n",
       "NULL NA        NA 129       174.13998            NA\n",
       "V4    2 76.260184 127        97.87980  2.756205e-17\n",
       "V7    2 11.134621 125        86.74518  3.820743e-03\n",
       "V9    2  6.521919 123        80.22326  3.835157e-02\n",
       "V12   2 10.529084 121        69.69417  5.171760e-03\n",
       "V15   2  8.786661 119        60.90751  1.235950e-02\n",
       "V17   2  2.885198 117        58.02231  2.363128e-01"
      ]
     },
     "metadata": {},
     "output_type": "display_data"
    }
   ],
   "source": [
    "summary(logitmodel)\n",
    "anova(logitmodel, test=\"Chisq\")"
   ]
  },
  {
   "cell_type": "markdown",
   "metadata": {},
   "source": [
    "After the model is formed, we use predict function to estimate the model for testdata variable \n",
    "which is the rest of the modeldata."
   ]
  },
  {
   "cell_type": "code",
   "execution_count": 84,
   "metadata": {
    "collapsed": false
   },
   "outputs": [],
   "source": [
    "prelogitmodel<-predict(logitmodel,testdata, type = \"response\")"
   ]
  },
  {
   "cell_type": "markdown",
   "metadata": {},
   "source": [
    "Now, `prelogitmodel` contains the probability that given MP is a republican or a democrat.  We need to set a threshold for the probability. If it is greater than 0.5 then we will predict that MP is a republican."
   ]
  },
  {
   "cell_type": "code",
   "execution_count": 103,
   "metadata": {
    "collapsed": false
   },
   "outputs": [],
   "source": [
    "a<-ifelse(prelogitmodel>0.6,\"republican\",\"democrat\")"
   ]
  },
  {
   "cell_type": "code",
   "execution_count": 104,
   "metadata": {
    "collapsed": false
   },
   "outputs": [
    {
     "data": {
      "text/plain": [
       "a\n",
       "  democrat republican \n",
       "       199        106 "
      ]
     },
     "metadata": {},
     "output_type": "display_data"
    }
   ],
   "source": [
    "table(a)"
   ]
  },
  {
   "cell_type": "markdown",
   "metadata": {},
   "source": [
    "To compare logitmodel that we constitute and prelogitmodel that predict our model, we use\n",
    "table function. We need to compare the number of democrat congressmen and republican congressmen.For this reason, we take V1 column of the testdata that consists of the class of the congressmen which are democrat and republican. Also, the table(a) that is formed by using prelogitmodel consists of the number of the congressmen that belongs to two class."
   ]
  },
  {
   "cell_type": "code",
   "execution_count": 105,
   "metadata": {
    "collapsed": false
   },
   "outputs": [
    {
     "data": {
      "text/plain": [
       "            predicted\n",
       "real         democrat republican\n",
       "  democrat        176         12\n",
       "  republican       23         94"
      ]
     },
     "metadata": {},
     "output_type": "display_data"
    }
   ],
   "source": [
    "table(real=testdata$V1,predicted=a)"
   ]
  },
  {
   "cell_type": "markdown",
   "metadata": {
    "collapsed": true
   },
   "source": [
    "When we look at the anova function that gives informations about prelogitmodel, we take out laws\n",
    "that their residual deviance has a small differences. Therefore, V9 and V17 are taken out from \n",
    "the code to change our model.\n",
    "    "
   ]
  },
  {
   "cell_type": "code",
   "execution_count": 49,
   "metadata": {
    "collapsed": false
   },
   "outputs": [
    {
     "name": "stderr",
     "output_type": "stream",
     "text": [
      "Warning message:\n",
      "\"glm.fit: fitted probabilities numerically 0 or 1 occurred\""
     ]
    },
    {
     "data": {
      "text/plain": [
       "\n",
       "Call:  glm(formula = V1 ~ V4 + V7 + V12 + V15, family = binomial(link = \"logit\"), \n",
       "    data = modeldata)\n",
       "\n",
       "Coefficients:\n",
       "(Intercept)          V4n          V4y          V7n          V7y         V12n  \n",
       "   -18.5995      20.3249      17.5756      -0.1733       1.5369       0.1027  \n",
       "       V12y         V15n         V15y  \n",
       "    -2.2043     -19.6450      -0.7540  \n",
       "\n",
       "Degrees of Freedom: 129 Total (i.e. Null);  121 Residual\n",
       "Null Deviance:\t    174.1 \n",
       "Residual Deviance: 63.66 \tAIC: 81.66"
      ]
     },
     "metadata": {},
     "output_type": "display_data"
    }
   ],
   "source": [
    "logitmodel<- glm(V1 ~ V4+V7+V12+V15, family=binomial(link=\"logit\"), data= modeldata)\n",
    "logitmodel"
   ]
  },
  {
   "cell_type": "code",
   "execution_count": 50,
   "metadata": {
    "collapsed": false
   },
   "outputs": [
    {
     "data": {
      "text/plain": [
       "\n",
       "Call:\n",
       "glm(formula = V1 ~ V4 + V7 + V12 + V15, family = binomial(link = \"logit\"), \n",
       "    data = modeldata)\n",
       "\n",
       "Deviance Residuals: \n",
       "     Min        1Q    Median        3Q       Max  \n",
       "-2.31605  -0.00010  -0.00003   0.37650   2.24870  \n",
       "\n",
       "Coefficients:\n",
       "              Estimate Std. Error z value Pr(>|z|)\n",
       "(Intercept)   -18.5995 20268.5386  -0.001    0.999\n",
       "V4n            20.3249  9545.5644   0.002    0.998\n",
       "V4y            17.5756  9545.5644   0.002    0.999\n",
       "V7n            -0.1733 17880.0406   0.000    1.000\n",
       "V7y             1.5369 17880.0406   0.000    1.000\n",
       "V12n            0.1027     1.2782   0.080    0.936\n",
       "V12y           -2.2043     1.3648  -1.615    0.106\n",
       "V15n          -19.6450  2308.6386  -0.009    0.993\n",
       "V15y           -0.7540     1.4698  -0.513    0.608\n",
       "\n",
       "(Dispersion parameter for binomial family taken to be 1)\n",
       "\n",
       "    Null deviance: 174.140  on 129  degrees of freedom\n",
       "Residual deviance:  63.658  on 121  degrees of freedom\n",
       "AIC: 81.658\n",
       "\n",
       "Number of Fisher Scoring iterations: 19\n"
      ]
     },
     "metadata": {},
     "output_type": "display_data"
    },
    {
     "data": {
      "text/html": [
       "<table>\n",
       "<thead><tr><th></th><th scope=col>Df</th><th scope=col>Deviance</th><th scope=col>Resid. Df</th><th scope=col>Resid. Dev</th><th scope=col>Pr(&gt;Chi)</th></tr></thead>\n",
       "<tbody>\n",
       "\t<tr><th scope=row>NULL</th><td>NA          </td><td>      NA    </td><td>129         </td><td>174.13998   </td><td>          NA</td></tr>\n",
       "\t<tr><th scope=row>V4</th><td> 2          </td><td>76.26018    </td><td>127         </td><td> 97.87980   </td><td>2.756205e-17</td></tr>\n",
       "\t<tr><th scope=row>V7</th><td> 2          </td><td>11.13462    </td><td>125         </td><td> 86.74518   </td><td>3.820743e-03</td></tr>\n",
       "\t<tr><th scope=row>V12</th><td> 2          </td><td>12.29007    </td><td>123         </td><td> 74.45511   </td><td>2.144103e-03</td></tr>\n",
       "\t<tr><th scope=row>V15</th><td> 2          </td><td>10.79707    </td><td>121         </td><td> 63.65804   </td><td>4.523201e-03</td></tr>\n",
       "</tbody>\n",
       "</table>\n"
      ],
      "text/latex": [
       "\\begin{tabular}{r|lllll}\n",
       "  & Df & Deviance & Resid. Df & Resid. Dev & Pr(>Chi)\\\\\n",
       "\\hline\n",
       "\tNULL & NA           &       NA     & 129          & 174.13998    &           NA\\\\\n",
       "\tV4 &  2           & 76.26018     & 127          &  97.87980    & 2.756205e-17\\\\\n",
       "\tV7 &  2           & 11.13462     & 125          &  86.74518    & 3.820743e-03\\\\\n",
       "\tV12 &  2           & 12.29007     & 123          &  74.45511    & 2.144103e-03\\\\\n",
       "\tV15 &  2           & 10.79707     & 121          &  63.65804    & 4.523201e-03\\\\\n",
       "\\end{tabular}\n"
      ],
      "text/markdown": [
       "\n",
       "| <!--/--> | Df | Deviance | Resid. Df | Resid. Dev | Pr(>Chi) | \n",
       "|---|---|---|---|---|\n",
       "| NULL | NA           |       NA     | 129          | 174.13998    |           NA | \n",
       "| V4 |  2           | 76.26018     | 127          |  97.87980    | 2.756205e-17 | \n",
       "| V7 |  2           | 11.13462     | 125          |  86.74518    | 3.820743e-03 | \n",
       "| V12 |  2           | 12.29007     | 123          |  74.45511    | 2.144103e-03 | \n",
       "| V15 |  2           | 10.79707     | 121          |  63.65804    | 4.523201e-03 | \n",
       "\n",
       "\n"
      ],
      "text/plain": [
       "     Df Deviance Resid. Df Resid. Dev Pr(>Chi)    \n",
       "NULL NA       NA 129       174.13998            NA\n",
       "V4    2 76.26018 127        97.87980  2.756205e-17\n",
       "V7    2 11.13462 125        86.74518  3.820743e-03\n",
       "V12   2 12.29007 123        74.45511  2.144103e-03\n",
       "V15   2 10.79707 121        63.65804  4.523201e-03"
      ]
     },
     "metadata": {},
     "output_type": "display_data"
    }
   ],
   "source": [
    "summary(logitmodel)\n",
    "anova(logitmodel, test=\"Chisq\")"
   ]
  },
  {
   "cell_type": "markdown",
   "metadata": {},
   "source": [
    "When we look at the table above, the differences between the residual deviances are close to each other. Consequently, we constitute our logitmodel again without V9 and V17 columns."
   ]
  },
  {
   "cell_type": "code",
   "execution_count": 51,
   "metadata": {
    "collapsed": true
   },
   "outputs": [],
   "source": [
    "prelogitmodel<-predict(logitmodel,testdata, type = \"response\")"
   ]
  },
  {
   "cell_type": "code",
   "execution_count": 79,
   "metadata": {
    "collapsed": true
   },
   "outputs": [],
   "source": [
    "a<-ifelse(prelogitmodel>0.6,\"republican\",\"democrat\")"
   ]
  },
  {
   "cell_type": "code",
   "execution_count": 80,
   "metadata": {
    "collapsed": false
   },
   "outputs": [
    {
     "data": {
      "text/plain": [
       "a\n",
       "  democrat republican \n",
       "       215         90 "
      ]
     },
     "metadata": {},
     "output_type": "display_data"
    }
   ],
   "source": [
    "table(a)"
   ]
  },
  {
   "cell_type": "code",
   "execution_count": 81,
   "metadata": {
    "collapsed": false,
    "scrolled": false
   },
   "outputs": [
    {
     "data": {
      "text/plain": [
       "            predicted\n",
       "real         democrat republican\n",
       "  democrat        184          4\n",
       "  republican       31         86"
      ]
     },
     "metadata": {},
     "output_type": "display_data"
    }
   ],
   "source": [
    "table(real=testdata$V1,predicted=a)"
   ]
  },
  {
   "cell_type": "code",
   "execution_count": null,
   "metadata": {
    "collapsed": true
   },
   "outputs": [],
   "source": []
  },
  {
   "cell_type": "code",
   "execution_count": null,
   "metadata": {
    "collapsed": true
   },
   "outputs": [],
   "source": []
  }
 ],
 "metadata": {
  "kernelspec": {
   "display_name": "R",
   "language": "R",
   "name": "ir"
  },
  "language_info": {
   "codemirror_mode": "r",
   "file_extension": ".r",
   "mimetype": "text/x-r-source",
   "name": "R",
   "pygments_lexer": "r",
   "version": "3.3.2"
  }
 },
 "nbformat": 4,
 "nbformat_minor": 2
}
