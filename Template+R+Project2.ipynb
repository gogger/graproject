{
 "cells": [
  {
   "cell_type": "markdown",
   "metadata": {
    "collapsed": false
   },
   "source": [
    "# Project Title\n",
    "Comparison of Logistic Regression and SVM Method\n",
    "\n",
    "## Members\n",
    "\n",
    "1. First member: name and e-mail adress\n",
    "Zeynep Göger and gogerz@itu.edu.tr\n",
    "2. Second member: name and e-mail adress\n",
    "\n",
    "## Description of the project\n",
    "In this project,  we compare two methods that are logistic regression method and SVM method \n",
    "by using 1984 United Stated Congressional Voting Records in R language. We analyse that which\n",
    "method is better to predict the congressman belongs to which party according to first column\n",
    "of the data to the rest of them.\n",
    "\n",
    "\n",
    "### The methods to be used\n",
    "There are two different methods that are logistic regression method and SVM method.\n",
    "Logistic regression is a type of a prediction method that is used if the data has binary \n",
    "dependent variables and this method determines the relationship between the set of dependent\n",
    "variables and the independent set.\n",
    "    \n",
    "Support Vector Machines method is another prediction method that is used if the data is\n",
    "binary too. However, in this method two kinds of accumulation of dependent variables\n",
    "are determined and divided down the middle of the distance that is called as margin.    \n",
    "\n",
    "Explain.\n",
    "\n",
    "### The data\n",
    "\n",
    "The data is 1984 United Stated Congressional Voting Records.\n",
    "    In this data has binary dependent variables such as yes or no and two class of congressmen\n",
    "    that are republican and democrat. There are 16 numbers of attributes that are categorical.\n",
    "\n",
    "## Code\n",
    "\n",
    "As proof of work, you must run this notebook.  Upload an HTML output of this notebook on your github account."
   ]
  },
  {
   "cell_type": "code",
   "execution_count": 3,
   "metadata": {
    "collapsed": false
   },
   "outputs": [],
   "source": [
    "X<- read.csv(\"https://archive.ics.uci.edu/ml/machine-learning-databases/voting-records/house-votes-84.data\", header=FALSE)"
   ]
  },
  {
   "cell_type": "code",
   "execution_count": 4,
   "metadata": {
    "collapsed": false
   },
   "outputs": [
    {
     "data": {
      "text/html": [
       "<table>\n",
       "<thead><tr><th scope=col>V1</th><th scope=col>V2</th><th scope=col>V3</th><th scope=col>V4</th><th scope=col>V5</th><th scope=col>V6</th><th scope=col>V7</th><th scope=col>V8</th><th scope=col>V9</th><th scope=col>V10</th><th scope=col>V11</th><th scope=col>V12</th><th scope=col>V13</th><th scope=col>V14</th><th scope=col>V15</th><th scope=col>V16</th><th scope=col>V17</th></tr></thead>\n",
       "<tbody>\n",
       "\t<tr><td>republican</td><td>n         </td><td>y         </td><td>n         </td><td>y         </td><td>y         </td><td>y         </td><td>n         </td><td>n         </td><td>n         </td><td>y         </td><td>?         </td><td>y         </td><td>y         </td><td>y         </td><td>n         </td><td>y         </td></tr>\n",
       "\t<tr><td>republican</td><td>n         </td><td>y         </td><td>n         </td><td>y         </td><td>y         </td><td>y         </td><td>n         </td><td>n         </td><td>n         </td><td>n         </td><td>n         </td><td>y         </td><td>y         </td><td>y         </td><td>n         </td><td>?         </td></tr>\n",
       "\t<tr><td>democrat  </td><td>?         </td><td>y         </td><td>y         </td><td>?         </td><td>y         </td><td>y         </td><td>n         </td><td>n         </td><td>n         </td><td>n         </td><td>y         </td><td>n         </td><td>y         </td><td>y         </td><td>n         </td><td>n         </td></tr>\n",
       "\t<tr><td>democrat  </td><td>n         </td><td>y         </td><td>y         </td><td>n         </td><td>?         </td><td>y         </td><td>n         </td><td>n         </td><td>n         </td><td>n         </td><td>y         </td><td>n         </td><td>y         </td><td>n         </td><td>n         </td><td>y         </td></tr>\n",
       "\t<tr><td>democrat  </td><td>y         </td><td>y         </td><td>y         </td><td>n         </td><td>y         </td><td>y         </td><td>n         </td><td>n         </td><td>n         </td><td>n         </td><td>y         </td><td>?         </td><td>y         </td><td>y         </td><td>y         </td><td>y         </td></tr>\n",
       "\t<tr><td>democrat  </td><td>n         </td><td>y         </td><td>y         </td><td>n         </td><td>y         </td><td>y         </td><td>n         </td><td>n         </td><td>n         </td><td>n         </td><td>n         </td><td>n         </td><td>y         </td><td>y         </td><td>y         </td><td>y         </td></tr>\n",
       "</tbody>\n",
       "</table>\n"
      ],
      "text/latex": [
       "\\begin{tabular}{r|lllllllllllllllll}\n",
       " V1 & V2 & V3 & V4 & V5 & V6 & V7 & V8 & V9 & V10 & V11 & V12 & V13 & V14 & V15 & V16 & V17\\\\\n",
       "\\hline\n",
       "\t republican & n          & y          & n          & y          & y          & y          & n          & n          & n          & y          & ?          & y          & y          & y          & n          & y         \\\\\n",
       "\t republican & n          & y          & n          & y          & y          & y          & n          & n          & n          & n          & n          & y          & y          & y          & n          & ?         \\\\\n",
       "\t democrat   & ?          & y          & y          & ?          & y          & y          & n          & n          & n          & n          & y          & n          & y          & y          & n          & n         \\\\\n",
       "\t democrat   & n          & y          & y          & n          & ?          & y          & n          & n          & n          & n          & y          & n          & y          & n          & n          & y         \\\\\n",
       "\t democrat   & y          & y          & y          & n          & y          & y          & n          & n          & n          & n          & y          & ?          & y          & y          & y          & y         \\\\\n",
       "\t democrat   & n          & y          & y          & n          & y          & y          & n          & n          & n          & n          & n          & n          & y          & y          & y          & y         \\\\\n",
       "\\end{tabular}\n"
      ],
      "text/markdown": [
       "\n",
       "V1 | V2 | V3 | V4 | V5 | V6 | V7 | V8 | V9 | V10 | V11 | V12 | V13 | V14 | V15 | V16 | V17 | \n",
       "|---|---|---|---|---|---|\n",
       "| republican | n          | y          | n          | y          | y          | y          | n          | n          | n          | y          | ?          | y          | y          | y          | n          | y          | \n",
       "| republican | n          | y          | n          | y          | y          | y          | n          | n          | n          | n          | n          | y          | y          | y          | n          | ?          | \n",
       "| democrat   | ?          | y          | y          | ?          | y          | y          | n          | n          | n          | n          | y          | n          | y          | y          | n          | n          | \n",
       "| democrat   | n          | y          | y          | n          | ?          | y          | n          | n          | n          | n          | y          | n          | y          | n          | n          | y          | \n",
       "| democrat   | y          | y          | y          | n          | y          | y          | n          | n          | n          | n          | y          | ?          | y          | y          | y          | y          | \n",
       "| democrat   | n          | y          | y          | n          | y          | y          | n          | n          | n          | n          | n          | n          | y          | y          | y          | y          | \n",
       "\n",
       "\n"
      ],
      "text/plain": [
       "  V1         V2 V3 V4 V5 V6 V7 V8 V9 V10 V11 V12 V13 V14 V15 V16 V17\n",
       "1 republican n  y  n  y  y  y  n  n  n   y   ?   y   y   y   n   y  \n",
       "2 republican n  y  n  y  y  y  n  n  n   n   n   y   y   y   n   ?  \n",
       "3 democrat   ?  y  y  ?  y  y  n  n  n   n   y   n   y   y   n   n  \n",
       "4 democrat   n  y  y  n  ?  y  n  n  n   n   y   n   y   n   n   y  \n",
       "5 democrat   y  y  y  n  y  y  n  n  n   n   y   ?   y   y   y   y  \n",
       "6 democrat   n  y  y  n  y  y  n  n  n   n   n   n   y   y   y   y  "
      ]
     },
     "metadata": {},
     "output_type": "display_data"
    }
   ],
   "source": [
    "head(X)"
   ]
  },
  {
   "cell_type": "code",
   "execution_count": null,
   "metadata": {
    "collapsed": true
   },
   "outputs": [],
   "source": []
  }
 ],
 "metadata": {
  "kernelspec": {
   "display_name": "R",
   "language": "R",
   "name": "ir"
  },
  "language_info": {
   "codemirror_mode": "r",
   "file_extension": ".r",
   "mimetype": "text/x-r-source",
   "name": "R",
   "pygments_lexer": "r",
   "version": "3.3.2"
  }
 },
 "nbformat": 4,
 "nbformat_minor": 2
}
